{
 "cells": [
  {
   "cell_type": "markdown",
   "metadata": {},
   "source": [
    "# Treatment Wetlands Aeration Efficiency: A Review <a class=\"tocSkip\">"
   ]
  },
  {
   "cell_type": "markdown",
   "metadata": {},
   "source": [
    "***Just a import of libraries***"
   ]
  },
  {
   "cell_type": "code",
   "execution_count": 3,
   "metadata": {},
   "outputs": [],
   "source": [
    "import pandas as pd\n",
    "import datacompy\n",
    "import plotly_express as px\n",
    "import matplotlib.pyplot as plt\n",
    "%matplotlib inline"
   ]
  },
  {
   "cell_type": "markdown",
   "metadata": {},
   "source": [
    "## Introduction"
   ]
  },
  {
   "cell_type": "markdown",
   "metadata": {},
   "source": [
    "This jupyter notebook serves as complementary material for the paper Treatment Wetlands Aeration Efficiency: A review"
   ]
  },
  {
   "cell_type": "markdown",
   "metadata": {},
   "source": [
    "## Data search and preparation"
   ]
  },
  {
   "cell_type": "markdown",
   "metadata": {},
   "source": [
    "### Raw data search\n",
    "\n",
    "On **web of science** search engine three queries were done to find the input articles for review. The search was set as such:\n",
    "1. **topic=\"treatment wetlands\" AND topic=\"aeration\"**\n",
    "2. **topic=\"treatment wetland\" AND topic=\"aeration\"**\n",
    "3. **topic=\"constructed wetlands\" AND topic=\"aeration\"**\n",
    "\n",
    "At the first glance it seams obvious that queries for \"wetland\" and \"wetlands\" are the same, so the search query \"constructed wetland\" was omitted in this process. The similarity of the queries is tested further in this notebook.\n",
    "\n",
    "The results were downloaded as text files for further analysis.\n",
    "\n",
    "**Date of the search was 14. 11. 2018**"
   ]
  },
  {
   "cell_type": "code",
   "execution_count": 2,
   "metadata": {},
   "outputs": [],
   "source": [
    "# importing the text files as pandas dataframes for futher processing\n",
    "\n",
    "query_1 = pd.read_csv(\"data/raw/treatment-wetlands_aeration.txt\", sep=\"\\t\", header=0, index_col=False)\n",
    "query_2 = pd.read_csv(\"data/raw/treatment-wetland_aeration.txt\", sep=\"\\t\", header=0, index_col=False)\n",
    "query_3 = pd.read_csv(\"data/raw/constructed-wetlands_aeration.txt\", sep=\"\\t\", header=0, index_col=False)"
   ]
  },
  {
   "cell_type": "code",
   "execution_count": 3,
   "metadata": {},
   "outputs": [
    {
     "data": {
      "text/html": [
       "<div>\n",
       "<style scoped>\n",
       "    .dataframe tbody tr th:only-of-type {\n",
       "        vertical-align: middle;\n",
       "    }\n",
       "\n",
       "    .dataframe tbody tr th {\n",
       "        vertical-align: top;\n",
       "    }\n",
       "\n",
       "    .dataframe thead th {\n",
       "        text-align: right;\n",
       "    }\n",
       "</style>\n",
       "<table border=\"1\" class=\"dataframe\">\n",
       "  <thead>\n",
       "    <tr style=\"text-align: right;\">\n",
       "      <th></th>\n",
       "      <th>PT</th>\n",
       "      <th>AU</th>\n",
       "      <th>BA</th>\n",
       "      <th>BE</th>\n",
       "      <th>GP</th>\n",
       "      <th>AF</th>\n",
       "      <th>BF</th>\n",
       "      <th>CA</th>\n",
       "      <th>TI</th>\n",
       "      <th>SO</th>\n",
       "      <th>...</th>\n",
       "      <th>PG</th>\n",
       "      <th>WC</th>\n",
       "      <th>SC</th>\n",
       "      <th>GA</th>\n",
       "      <th>UT</th>\n",
       "      <th>PM</th>\n",
       "      <th>OA</th>\n",
       "      <th>HC</th>\n",
       "      <th>HP</th>\n",
       "      <th>DA</th>\n",
       "    </tr>\n",
       "  </thead>\n",
       "  <tbody>\n",
       "    <tr>\n",
       "      <th>0</th>\n",
       "      <td>J</td>\n",
       "      <td>Liu, FF; Fan, JL; Du, JH; Shi, X; Zhang, J; Sh...</td>\n",
       "      <td>NaN</td>\n",
       "      <td>NaN</td>\n",
       "      <td>NaN</td>\n",
       "      <td>Liu, Fei-fei; Fan, Jinlin; Du, Jinhui; Shi, Xi...</td>\n",
       "      <td>NaN</td>\n",
       "      <td>NaN</td>\n",
       "      <td>Intensified nitrogen transformation in intermi...</td>\n",
       "      <td>SCIENCE OF THE TOTAL ENVIRONMENT</td>\n",
       "      <td>...</td>\n",
       "      <td>8</td>\n",
       "      <td>Environmental Sciences</td>\n",
       "      <td>Environmental Sciences &amp; Ecology</td>\n",
       "      <td>GX6LB</td>\n",
       "      <td>WOS:000447871400115</td>\n",
       "      <td>30373064.0</td>\n",
       "      <td>NaN</td>\n",
       "      <td>NaN</td>\n",
       "      <td>NaN</td>\n",
       "      <td>2018-11-14</td>\n",
       "    </tr>\n",
       "    <tr>\n",
       "      <th>1</th>\n",
       "      <td>J</td>\n",
       "      <td>Nivala, J; Kahl, S; Boog, J; van Afferden, M; ...</td>\n",
       "      <td>NaN</td>\n",
       "      <td>NaN</td>\n",
       "      <td>NaN</td>\n",
       "      <td>Nivala, Jaime; Kahl, Stefanie; Boog, Johannes;...</td>\n",
       "      <td>NaN</td>\n",
       "      <td>NaN</td>\n",
       "      <td>Dynamics of emerging organic contaminant remov...</td>\n",
       "      <td>SCIENCE OF THE TOTAL ENVIRONMENT</td>\n",
       "      <td>...</td>\n",
       "      <td>13</td>\n",
       "      <td>Environmental Sciences</td>\n",
       "      <td>Environmental Sciences &amp; Ecology</td>\n",
       "      <td>GV4NL</td>\n",
       "      <td>WOS:000446076500109</td>\n",
       "      <td>30308886.0</td>\n",
       "      <td>NaN</td>\n",
       "      <td>NaN</td>\n",
       "      <td>NaN</td>\n",
       "      <td>2018-11-14</td>\n",
       "    </tr>\n",
       "    <tr>\n",
       "      <th>2</th>\n",
       "      <td>J</td>\n",
       "      <td>Masi, F; Rizzo, A; Bresciani, R; Martinuzzi, N...</td>\n",
       "      <td>NaN</td>\n",
       "      <td>NaN</td>\n",
       "      <td>NaN</td>\n",
       "      <td>Masi, F.; Rizzo, A.; Bresciani, R.; Martinuzzi...</td>\n",
       "      <td>NaN</td>\n",
       "      <td>NaN</td>\n",
       "      <td>Lessons learnt from a pilot study on residual ...</td>\n",
       "      <td>SCIENCE OF THE TOTAL ENVIRONMENT</td>\n",
       "      <td>...</td>\n",
       "      <td>9</td>\n",
       "      <td>Environmental Sciences</td>\n",
       "      <td>Environmental Sciences &amp; Ecology</td>\n",
       "      <td>GX5QQ</td>\n",
       "      <td>WOS:000447805500015</td>\n",
       "      <td>30114585.0</td>\n",
       "      <td>NaN</td>\n",
       "      <td>NaN</td>\n",
       "      <td>NaN</td>\n",
       "      <td>2018-11-14</td>\n",
       "    </tr>\n",
       "    <tr>\n",
       "      <th>3</th>\n",
       "      <td>J</td>\n",
       "      <td>Turker, OC</td>\n",
       "      <td>NaN</td>\n",
       "      <td>NaN</td>\n",
       "      <td>NaN</td>\n",
       "      <td>Turker, Onur Can</td>\n",
       "      <td>NaN</td>\n",
       "      <td>NaN</td>\n",
       "      <td>Simultaneous boron (B) removal and electricity...</td>\n",
       "      <td>JOURNAL OF ENVIRONMENTAL MANAGEMENT</td>\n",
       "      <td>...</td>\n",
       "      <td>12</td>\n",
       "      <td>Environmental Sciences</td>\n",
       "      <td>Environmental Sciences &amp; Ecology</td>\n",
       "      <td>GY0PX</td>\n",
       "      <td>WOS:000448224900003</td>\n",
       "      <td>30212671.0</td>\n",
       "      <td>NaN</td>\n",
       "      <td>NaN</td>\n",
       "      <td>NaN</td>\n",
       "      <td>2018-11-14</td>\n",
       "    </tr>\n",
       "    <tr>\n",
       "      <th>4</th>\n",
       "      <td>J</td>\n",
       "      <td>Song, P; Huang, GH; An, CJ; Shen, J; Zhang, P;...</td>\n",
       "      <td>NaN</td>\n",
       "      <td>NaN</td>\n",
       "      <td>NaN</td>\n",
       "      <td>Song, Pei; Huang, Guohe; An, Chunjiang; Shen, ...</td>\n",
       "      <td>NaN</td>\n",
       "      <td>NaN</td>\n",
       "      <td>Treatment of rural domestic wastewater using m...</td>\n",
       "      <td>SCIENCE OF THE TOTAL ENVIRONMENT</td>\n",
       "      <td>...</td>\n",
       "      <td>11</td>\n",
       "      <td>Environmental Sciences</td>\n",
       "      <td>Environmental Sciences &amp; Ecology</td>\n",
       "      <td>GU3GG</td>\n",
       "      <td>WOS:000445164000056</td>\n",
       "      <td>29990903.0</td>\n",
       "      <td>NaN</td>\n",
       "      <td>NaN</td>\n",
       "      <td>NaN</td>\n",
       "      <td>2018-11-14</td>\n",
       "    </tr>\n",
       "  </tbody>\n",
       "</table>\n",
       "<p>5 rows × 68 columns</p>\n",
       "</div>"
      ],
      "text/plain": [
       "  PT                                                 AU  BA   BE   GP  \\\n",
       "0  J  Liu, FF; Fan, JL; Du, JH; Shi, X; Zhang, J; Sh... NaN  NaN  NaN   \n",
       "1  J  Nivala, J; Kahl, S; Boog, J; van Afferden, M; ... NaN  NaN  NaN   \n",
       "2  J  Masi, F; Rizzo, A; Bresciani, R; Martinuzzi, N... NaN  NaN  NaN   \n",
       "3  J                                         Turker, OC NaN  NaN  NaN   \n",
       "4  J  Song, P; Huang, GH; An, CJ; Shen, J; Zhang, P;... NaN  NaN  NaN   \n",
       "\n",
       "                                                  AF  BF  CA  \\\n",
       "0  Liu, Fei-fei; Fan, Jinlin; Du, Jinhui; Shi, Xi... NaN NaN   \n",
       "1  Nivala, Jaime; Kahl, Stefanie; Boog, Johannes;... NaN NaN   \n",
       "2  Masi, F.; Rizzo, A.; Bresciani, R.; Martinuzzi... NaN NaN   \n",
       "3                                   Turker, Onur Can NaN NaN   \n",
       "4  Song, Pei; Huang, Guohe; An, Chunjiang; Shen, ... NaN NaN   \n",
       "\n",
       "                                                  TI  \\\n",
       "0  Intensified nitrogen transformation in intermi...   \n",
       "1  Dynamics of emerging organic contaminant remov...   \n",
       "2  Lessons learnt from a pilot study on residual ...   \n",
       "3  Simultaneous boron (B) removal and electricity...   \n",
       "4  Treatment of rural domestic wastewater using m...   \n",
       "\n",
       "                                    SO  ...  PG                      WC  \\\n",
       "0     SCIENCE OF THE TOTAL ENVIRONMENT  ...   8  Environmental Sciences   \n",
       "1     SCIENCE OF THE TOTAL ENVIRONMENT  ...  13  Environmental Sciences   \n",
       "2     SCIENCE OF THE TOTAL ENVIRONMENT  ...   9  Environmental Sciences   \n",
       "3  JOURNAL OF ENVIRONMENTAL MANAGEMENT  ...  12  Environmental Sciences   \n",
       "4     SCIENCE OF THE TOTAL ENVIRONMENT  ...  11  Environmental Sciences   \n",
       "\n",
       "                                 SC     GA                   UT          PM  \\\n",
       "0  Environmental Sciences & Ecology  GX6LB  WOS:000447871400115  30373064.0   \n",
       "1  Environmental Sciences & Ecology  GV4NL  WOS:000446076500109  30308886.0   \n",
       "2  Environmental Sciences & Ecology  GX5QQ  WOS:000447805500015  30114585.0   \n",
       "3  Environmental Sciences & Ecology  GY0PX  WOS:000448224900003  30212671.0   \n",
       "4  Environmental Sciences & Ecology  GU3GG  WOS:000445164000056  29990903.0   \n",
       "\n",
       "    OA   HC   HP          DA  \n",
       "0  NaN  NaN  NaN  2018-11-14  \n",
       "1  NaN  NaN  NaN  2018-11-14  \n",
       "2  NaN  NaN  NaN  2018-11-14  \n",
       "3  NaN  NaN  NaN  2018-11-14  \n",
       "4  NaN  NaN  NaN  2018-11-14  \n",
       "\n",
       "[5 rows x 68 columns]"
      ]
     },
     "execution_count": 3,
     "metadata": {},
     "output_type": "execute_result"
    }
   ],
   "source": [
    "# checking the table structure\n",
    "\n",
    "query_1.head()"
   ]
  },
  {
   "cell_type": "markdown",
   "metadata": {},
   "source": [
    "***Now we will test if query with term \"constructed wetlands\" is similar to the query with the term \"constructed wetland\"***"
   ]
  },
  {
   "cell_type": "code",
   "execution_count": 4,
   "metadata": {},
   "outputs": [
    {
     "data": {
      "text/plain": [
       "True"
      ]
     },
     "execution_count": 4,
     "metadata": {},
     "output_type": "execute_result"
    }
   ],
   "source": [
    "# testing the similarity between query_1 and query_2 (search 1 and 2)\n",
    "\n",
    "query_1.equals(query_2)"
   ]
  },
  {
   "cell_type": "markdown",
   "metadata": {},
   "source": [
    "**As we can see the two terms generate equal output so we can omitt the query_2 dataset in further processing**"
   ]
  },
  {
   "cell_type": "markdown",
   "metadata": {},
   "source": [
    "### Comparing the search terms"
   ]
  },
  {
   "cell_type": "markdown",
   "metadata": {},
   "source": [
    "We have two datasets from searching the terms \"constructed wetlands\" or \"treatment wetlands\" and \"aeration\" with similar number of datapoints (rows in the table)."
   ]
  },
  {
   "cell_type": "code",
   "execution_count": 5,
   "metadata": {},
   "outputs": [
    {
     "name": "stdout",
     "output_type": "stream",
     "text": [
      "The number of rows for search term 'constructed wetlands' is: 444\n",
      "The number of rows for search term 'treatment wetlands' is: 465\n"
     ]
    }
   ],
   "source": [
    "print(\"The number of rows for search term 'constructed wetlands' is: %d\" % len(query_1))\n",
    "print(\"The number of rows for search term 'treatment wetlands' is: %d\" %len(query_3))"
   ]
  },
  {
   "cell_type": "markdown",
   "metadata": {},
   "source": [
    "Are these dataset similar also in the content?"
   ]
  },
  {
   "cell_type": "code",
   "execution_count": 8,
   "metadata": {},
   "outputs": [],
   "source": [
    "compare = datacompy.Compare(query_1, query_3, join_columns='GA', df1_name='TW', df2_name='CW')\n",
    "#print(compare.report())"
   ]
  },
  {
   "cell_type": "markdown",
   "metadata": {},
   "source": [
    "**We can see from the report that both datasets has 379 common rows and query_1 (CW) has 65 unique rows whereas query_3 (TW) has 86 unique rows.** "
   ]
  },
  {
   "cell_type": "markdown",
   "metadata": {},
   "source": [
    "### Joining and cleaning the dataset"
   ]
  },
  {
   "cell_type": "markdown",
   "metadata": {},
   "source": [
    "We will now make a join with droping the duplicate rows and preserving the unique rows."
   ]
  },
  {
   "cell_type": "code",
   "execution_count": 7,
   "metadata": {},
   "outputs": [
    {
     "name": "stdout",
     "output_type": "stream",
     "text": [
      "The number of rows in joined dataset is: 535\n"
     ]
    }
   ],
   "source": [
    "cw_tw_join = pd.concat([query_1, query_3]).drop_duplicates().reset_index(drop=True)\n",
    "print(\"The number of rows in joined dataset is: %d\" %len(cw_tw_join))"
   ]
  },
  {
   "cell_type": "markdown",
   "metadata": {},
   "source": [
    "We will also drop unuseful columns from the dataset. (The whole list of Web of Science Core Collection Field Tags (what means the columns names abbreviations) can be found [here](https://images.webofknowledge.com/images/help/WOK/hs_wos_fieldtags.html))"
   ]
  },
  {
   "cell_type": "code",
   "execution_count": 8,
   "metadata": {},
   "outputs": [
    {
     "name": "stdout",
     "output_type": "stream",
     "text": [
      "Final dataset with all unique datapointsfor search terms 'constructed wetlands'or 'treatment wetlands' and 'aeration'now contains 535 rows and 5 columns\n"
     ]
    }
   ],
   "source": [
    "cw_tw = cw_tw_join.loc[:, ['au', 'ti', 'de', 'so', 'di']]\n",
    "df_shape = cw_tw.shape\n",
    "\n",
    "print(\"Final dataset with all unique datapoints\" \n",
    "      + \"for search terms 'constructed wetlands'\" \n",
    "      + \"or 'treatment wetlands' and 'aeration'\"\n",
    "      + \"now contains %d rows and %d columns\" % (df_shape[0], df_shape[1])\n",
    "     )"
   ]
  },
  {
   "cell_type": "code",
   "execution_count": 9,
   "metadata": {},
   "outputs": [
    {
     "data": {
      "text/html": [
       "<div>\n",
       "<style scoped>\n",
       "    .dataframe tbody tr th:only-of-type {\n",
       "        vertical-align: middle;\n",
       "    }\n",
       "\n",
       "    .dataframe tbody tr th {\n",
       "        vertical-align: top;\n",
       "    }\n",
       "\n",
       "    .dataframe thead th {\n",
       "        text-align: right;\n",
       "    }\n",
       "</style>\n",
       "<table border=\"1\" class=\"dataframe\">\n",
       "  <thead>\n",
       "    <tr style=\"text-align: right;\">\n",
       "      <th></th>\n",
       "      <th>au</th>\n",
       "      <th>ti</th>\n",
       "      <th>de</th>\n",
       "      <th>so</th>\n",
       "      <th>di</th>\n",
       "    </tr>\n",
       "  </thead>\n",
       "  <tbody>\n",
       "    <tr>\n",
       "      <th>0</th>\n",
       "      <td>Liu, FF; Fan, JL; Du, JH; Shi, X; Zhang, J; Sh...</td>\n",
       "      <td>Intensified nitrogen transformation in intermi...</td>\n",
       "      <td>Constructed wetlands; Intermittent aeration; C...</td>\n",
       "      <td>SCIENCE OF THE TOTAL ENVIRONMENT</td>\n",
       "      <td>10.1016/j.scitotenv.2018.10.037</td>\n",
       "    </tr>\n",
       "    <tr>\n",
       "      <th>1</th>\n",
       "      <td>Nivala, J; Kahl, S; Boog, J; van Afferden, M; ...</td>\n",
       "      <td>Dynamics of emerging organic contaminant remov...</td>\n",
       "      <td>Aeration; Constructed wetland; Micropollutant;...</td>\n",
       "      <td>SCIENCE OF THE TOTAL ENVIRONMENT</td>\n",
       "      <td>10.1016/j.scitotenv.2018.08.339</td>\n",
       "    </tr>\n",
       "    <tr>\n",
       "      <th>2</th>\n",
       "      <td>Masi, F; Rizzo, A; Bresciani, R; Martinuzzi, N...</td>\n",
       "      <td>Lessons learnt from a pilot study on residual ...</td>\n",
       "      <td>Constructed wetland; Treatment wetland; Aerate...</td>\n",
       "      <td>SCIENCE OF THE TOTAL ENVIRONMENT</td>\n",
       "      <td>10.1016/j.scitotenv.2018.08.113</td>\n",
       "    </tr>\n",
       "    <tr>\n",
       "      <th>3</th>\n",
       "      <td>Turker, OC</td>\n",
       "      <td>Simultaneous boron (B) removal and electricity...</td>\n",
       "      <td>Water treatment; Duckweed wastewater treatment...</td>\n",
       "      <td>JOURNAL OF ENVIRONMENTAL MANAGEMENT</td>\n",
       "      <td>10.1016/j.jenvman.2018.08.112</td>\n",
       "    </tr>\n",
       "    <tr>\n",
       "      <th>4</th>\n",
       "      <td>Song, P; Huang, GH; An, CJ; Shen, J; Zhang, P;...</td>\n",
       "      <td>Treatment of rural domestic wastewater using m...</td>\n",
       "      <td>Rural wastewater; Multi-soil-layering system; ...</td>\n",
       "      <td>SCIENCE OF THE TOTAL ENVIRONMENT</td>\n",
       "      <td>10.1016/j.scitotenv.2018.06.331</td>\n",
       "    </tr>\n",
       "  </tbody>\n",
       "</table>\n",
       "</div>"
      ],
      "text/plain": [
       "                                                  au  \\\n",
       "0  Liu, FF; Fan, JL; Du, JH; Shi, X; Zhang, J; Sh...   \n",
       "1  Nivala, J; Kahl, S; Boog, J; van Afferden, M; ...   \n",
       "2  Masi, F; Rizzo, A; Bresciani, R; Martinuzzi, N...   \n",
       "3                                         Turker, OC   \n",
       "4  Song, P; Huang, GH; An, CJ; Shen, J; Zhang, P;...   \n",
       "\n",
       "                                                  ti  \\\n",
       "0  Intensified nitrogen transformation in intermi...   \n",
       "1  Dynamics of emerging organic contaminant remov...   \n",
       "2  Lessons learnt from a pilot study on residual ...   \n",
       "3  Simultaneous boron (B) removal and electricity...   \n",
       "4  Treatment of rural domestic wastewater using m...   \n",
       "\n",
       "                                                  de  \\\n",
       "0  Constructed wetlands; Intermittent aeration; C...   \n",
       "1  Aeration; Constructed wetland; Micropollutant;...   \n",
       "2  Constructed wetland; Treatment wetland; Aerate...   \n",
       "3  Water treatment; Duckweed wastewater treatment...   \n",
       "4  Rural wastewater; Multi-soil-layering system; ...   \n",
       "\n",
       "                                    so                               di  \n",
       "0     SCIENCE OF THE TOTAL ENVIRONMENT  10.1016/j.scitotenv.2018.10.037  \n",
       "1     SCIENCE OF THE TOTAL ENVIRONMENT  10.1016/j.scitotenv.2018.08.339  \n",
       "2     SCIENCE OF THE TOTAL ENVIRONMENT  10.1016/j.scitotenv.2018.08.113  \n",
       "3  JOURNAL OF ENVIRONMENTAL MANAGEMENT    10.1016/j.jenvman.2018.08.112  \n",
       "4     SCIENCE OF THE TOTAL ENVIRONMENT  10.1016/j.scitotenv.2018.06.331  "
      ]
     },
     "execution_count": 9,
     "metadata": {},
     "output_type": "execute_result"
    }
   ],
   "source": [
    "# First five rows of the dataset\n",
    "\n",
    "cw_tw.head()"
   ]
  },
  {
   "cell_type": "markdown",
   "metadata": {},
   "source": [
    "We will rename the columns and export the raw dataset to csv file."
   ]
  },
  {
   "cell_type": "code",
   "execution_count": 11,
   "metadata": {},
   "outputs": [],
   "source": [
    "cw_tw.columns = [\"authors\", \"title\", \"keywords\", \"periodical\", \"id\"]"
   ]
  },
  {
   "cell_type": "markdown",
   "metadata": {},
   "source": [
    "and export this dataset as csv file"
   ]
  },
  {
   "cell_type": "code",
   "execution_count": 13,
   "metadata": {},
   "outputs": [],
   "source": [
    "# cw_tw.to_csv(\"data/intermediate/cleaned_raw_papers.csv\", index=False)"
   ]
  },
  {
   "cell_type": "markdown",
   "metadata": {},
   "source": [
    "### Selecting papers for further manual inspection"
   ]
  },
  {
   "cell_type": "markdown",
   "metadata": {},
   "source": [
    "We will now try to narrow the final dataset even more. After inspecting several rows (or better say articles) we can see that they are from the field of constructed/treatment wetlands but they do not contain any information on topic of wetland aeration. The inspection of titles and keywords of all articles can help us to drop such articles from the dataset.\n",
    "\n",
    "Because the topic of \"aeration\" can be expressed in several forms (like e.g aeration versus aerated), we will only search if the title or the keywords contains the string ***\"aer\"*** to include all possible forms being used."
   ]
  },
  {
   "cell_type": "code",
   "execution_count": 14,
   "metadata": {},
   "outputs": [
    {
     "data": {
      "text/html": [
       "<div>\n",
       "<style scoped>\n",
       "    .dataframe tbody tr th:only-of-type {\n",
       "        vertical-align: middle;\n",
       "    }\n",
       "\n",
       "    .dataframe tbody tr th {\n",
       "        vertical-align: top;\n",
       "    }\n",
       "\n",
       "    .dataframe thead th {\n",
       "        text-align: right;\n",
       "    }\n",
       "</style>\n",
       "<table border=\"1\" class=\"dataframe\">\n",
       "  <thead>\n",
       "    <tr style=\"text-align: right;\">\n",
       "      <th></th>\n",
       "      <th>authors</th>\n",
       "      <th>title</th>\n",
       "      <th>keywords</th>\n",
       "      <th>periodical</th>\n",
       "      <th>id</th>\n",
       "    </tr>\n",
       "  </thead>\n",
       "  <tbody>\n",
       "    <tr>\n",
       "      <th>0</th>\n",
       "      <td>Liu, FF; Fan, JL; Du, JH; Shi, X; Zhang, J; Sh...</td>\n",
       "      <td>Intensified nitrogen transformation in intermi...</td>\n",
       "      <td>Constructed wetlands; Intermittent aeration; C...</td>\n",
       "      <td>SCIENCE OF THE TOTAL ENVIRONMENT</td>\n",
       "      <td>10.1016/j.scitotenv.2018.10.037</td>\n",
       "    </tr>\n",
       "    <tr>\n",
       "      <th>1</th>\n",
       "      <td>Nivala, J; Kahl, S; Boog, J; van Afferden, M; ...</td>\n",
       "      <td>Dynamics of emerging organic contaminant remov...</td>\n",
       "      <td>Aeration; Constructed wetland; Micropollutant;...</td>\n",
       "      <td>SCIENCE OF THE TOTAL ENVIRONMENT</td>\n",
       "      <td>10.1016/j.scitotenv.2018.08.339</td>\n",
       "    </tr>\n",
       "    <tr>\n",
       "      <th>2</th>\n",
       "      <td>Masi, F; Rizzo, A; Bresciani, R; Martinuzzi, N...</td>\n",
       "      <td>Lessons learnt from a pilot study on residual ...</td>\n",
       "      <td>Constructed wetland; Treatment wetland; Aerate...</td>\n",
       "      <td>SCIENCE OF THE TOTAL ENVIRONMENT</td>\n",
       "      <td>10.1016/j.scitotenv.2018.08.113</td>\n",
       "    </tr>\n",
       "    <tr>\n",
       "      <th>3</th>\n",
       "      <td>Turker, OC</td>\n",
       "      <td>Simultaneous boron (B) removal and electricity...</td>\n",
       "      <td>Water treatment; Duckweed wastewater treatment...</td>\n",
       "      <td>JOURNAL OF ENVIRONMENTAL MANAGEMENT</td>\n",
       "      <td>10.1016/j.jenvman.2018.08.112</td>\n",
       "    </tr>\n",
       "    <tr>\n",
       "      <th>4</th>\n",
       "      <td>Song, P; Huang, GH; An, CJ; Shen, J; Zhang, P;...</td>\n",
       "      <td>Treatment of rural domestic wastewater using m...</td>\n",
       "      <td>Rural wastewater; Multi-soil-layering system; ...</td>\n",
       "      <td>SCIENCE OF THE TOTAL ENVIRONMENT</td>\n",
       "      <td>10.1016/j.scitotenv.2018.06.331</td>\n",
       "    </tr>\n",
       "  </tbody>\n",
       "</table>\n",
       "</div>"
      ],
      "text/plain": [
       "                                             authors  \\\n",
       "0  Liu, FF; Fan, JL; Du, JH; Shi, X; Zhang, J; Sh...   \n",
       "1  Nivala, J; Kahl, S; Boog, J; van Afferden, M; ...   \n",
       "2  Masi, F; Rizzo, A; Bresciani, R; Martinuzzi, N...   \n",
       "3                                         Turker, OC   \n",
       "4  Song, P; Huang, GH; An, CJ; Shen, J; Zhang, P;...   \n",
       "\n",
       "                                               title  \\\n",
       "0  Intensified nitrogen transformation in intermi...   \n",
       "1  Dynamics of emerging organic contaminant remov...   \n",
       "2  Lessons learnt from a pilot study on residual ...   \n",
       "3  Simultaneous boron (B) removal and electricity...   \n",
       "4  Treatment of rural domestic wastewater using m...   \n",
       "\n",
       "                                            keywords  \\\n",
       "0  Constructed wetlands; Intermittent aeration; C...   \n",
       "1  Aeration; Constructed wetland; Micropollutant;...   \n",
       "2  Constructed wetland; Treatment wetland; Aerate...   \n",
       "3  Water treatment; Duckweed wastewater treatment...   \n",
       "4  Rural wastewater; Multi-soil-layering system; ...   \n",
       "\n",
       "                            periodical                               id  \n",
       "0     SCIENCE OF THE TOTAL ENVIRONMENT  10.1016/j.scitotenv.2018.10.037  \n",
       "1     SCIENCE OF THE TOTAL ENVIRONMENT  10.1016/j.scitotenv.2018.08.339  \n",
       "2     SCIENCE OF THE TOTAL ENVIRONMENT  10.1016/j.scitotenv.2018.08.113  \n",
       "3  JOURNAL OF ENVIRONMENTAL MANAGEMENT    10.1016/j.jenvman.2018.08.112  \n",
       "4     SCIENCE OF THE TOTAL ENVIRONMENT  10.1016/j.scitotenv.2018.06.331  "
      ]
     },
     "execution_count": 14,
     "metadata": {},
     "output_type": "execute_result"
    }
   ],
   "source": [
    "# importing the cleaned raw datafile\n",
    "all_papers = pd.read_csv(\"data/intermediate/cleaned_raw_papers.csv\")\n",
    "all_papers.head()"
   ]
  },
  {
   "cell_type": "code",
   "execution_count": 15,
   "metadata": {},
   "outputs": [],
   "source": [
    "# defining the search term\n",
    "word = \"aer\"\n",
    "\n",
    "# building the filters\n",
    "# filtering titles and keywords which contains 'aer' and building new columns with True / False values\n",
    "cw_tw['title_filter'] = cw_tw['title'].str.contains(word) \n",
    "cw_tw['keywords_filter'] = cw_tw['keywords'].str.contains(word)\n",
    "cw_tw['filter'] = cw_tw['title_filter'] + cw_tw['keywords_filter']"
   ]
  },
  {
   "cell_type": "code",
   "execution_count": 16,
   "metadata": {},
   "outputs": [
    {
     "name": "stdout",
     "output_type": "stream",
     "text": [
      "The number of rows in final dataset is: 205\n"
     ]
    }
   ],
   "source": [
    "# filtering the raw dataset\n",
    "filtered_dataset = cw_tw[cw_tw['filter'] > 0]\n",
    "\n",
    "print(\"The number of rows in final dataset is: %d\" %len(filtered_dataset))"
   ]
  },
  {
   "cell_type": "markdown",
   "metadata": {},
   "source": [
    "We will also export this dataset to the csv file"
   ]
  },
  {
   "cell_type": "code",
   "execution_count": 17,
   "metadata": {},
   "outputs": [],
   "source": [
    "filtered_dataset = filtered_dataset.drop([\"title_filter\", \"keywords_filter\", \"filter\"], axis=1)\n",
    "\n",
    "# filtered_dataset.to_csv(\"data/intermediate/final_set_of_papers.csv\", index=False)"
   ]
  },
  {
   "cell_type": "markdown",
   "metadata": {},
   "source": [
    "**After this preparation there is no other way than to screen all the selected articles manually, if their topic is really about wetland active (or forced) aeration (because we can expect there will be also a lot of articles about passive aeration of wetlands).**"
   ]
  },
  {
   "cell_type": "markdown",
   "metadata": {},
   "source": [
    "You can find the manually prescreened (which means they are somehow connected to our article topic) list of papers (counting 141 papers) in the intermediate data folder in [word file](files/data/intermediate/prescreened_papers.docx) or in [txt format](files/data/intermediate/prescreened_papers.txt)."
   ]
  },
  {
   "cell_type": "markdown",
   "metadata": {},
   "source": [
    "## Final Dataset"
   ]
  },
  {
   "cell_type": "markdown",
   "metadata": {},
   "source": [
    "The prescreened dataset of papers (references) was supplemented with the full versions of articles (in pdf available on request). For the paper to be included in the review three criteria had to be met. The paper had to include:\n",
    "\n",
    "1. Sufficient information on the active aeration of the wetland (at least the daily aeration time and the air flow rate), \n",
    "2. Inflow and outflow concentrations for COD, BOD or CBOD and TKN or NH4−N and\n",
    "3. data for the experimental wetland such as dimensions, hydraulic retention time, hydraulic load and other data necessary for the calculations within the study. \n",
    "\n",
    "**Based on these criteria only 21 research articles were processed further in the review.**"
   ]
  },
  {
   "cell_type": "markdown",
   "metadata": {},
   "source": [
    "###  Basic statictical description of main parameters"
   ]
  },
  {
   "cell_type": "code",
   "execution_count": 19,
   "metadata": {},
   "outputs": [
    {
     "data": {
      "text/html": [
       "<div>\n",
       "<style scoped>\n",
       "    .dataframe tbody tr th:only-of-type {\n",
       "        vertical-align: middle;\n",
       "    }\n",
       "\n",
       "    .dataframe tbody tr th {\n",
       "        vertical-align: top;\n",
       "    }\n",
       "\n",
       "    .dataframe thead th {\n",
       "        text-align: right;\n",
       "    }\n",
       "</style>\n",
       "<table border=\"1\" class=\"dataframe\">\n",
       "  <thead>\n",
       "    <tr style=\"text-align: right;\">\n",
       "      <th></th>\n",
       "      <th>Citation</th>\n",
       "      <th>Type of WW</th>\n",
       "      <th>Size</th>\n",
       "      <th>Flow Type</th>\n",
       "      <th>Feeding</th>\n",
       "      <th>Aeration placement</th>\n",
       "      <th>Aeration elements</th>\n",
       "    </tr>\n",
       "    <tr>\n",
       "      <th>No</th>\n",
       "      <th></th>\n",
       "      <th></th>\n",
       "      <th></th>\n",
       "      <th></th>\n",
       "      <th></th>\n",
       "      <th></th>\n",
       "      <th></th>\n",
       "    </tr>\n",
       "  </thead>\n",
       "  <tbody>\n",
       "    <tr>\n",
       "      <th>1</th>\n",
       "      <td>(Araya et al., 2016)</td>\n",
       "      <td>pretreated municipal</td>\n",
       "      <td>lab-scale</td>\n",
       "      <td>vertical</td>\n",
       "      <td>batch-filled</td>\n",
       "      <td>bottom</td>\n",
       "      <td>unknown</td>\n",
       "    </tr>\n",
       "    <tr>\n",
       "      <th>2</th>\n",
       "      <td>(Auvinen et al., 2017)</td>\n",
       "      <td>mun. and hospital</td>\n",
       "      <td>pilot-scale</td>\n",
       "      <td>vertical</td>\n",
       "      <td>continuous</td>\n",
       "      <td>bottom</td>\n",
       "      <td>perforated pipe in spiral</td>\n",
       "    </tr>\n",
       "    <tr>\n",
       "      <th>3</th>\n",
       "      <td>(Boog et al., 2014)</td>\n",
       "      <td>pretreated domestic</td>\n",
       "      <td>pilot-scale</td>\n",
       "      <td>horizontal</td>\n",
       "      <td>intermittent</td>\n",
       "      <td>bottom</td>\n",
       "      <td>perforated pipes (FBA)</td>\n",
       "    </tr>\n",
       "    <tr>\n",
       "      <th>4</th>\n",
       "      <td>(Butterworth et al., 2013)</td>\n",
       "      <td>tertiary municipal</td>\n",
       "      <td>full-scale</td>\n",
       "      <td>horizontal</td>\n",
       "      <td>continuous</td>\n",
       "      <td>bottom</td>\n",
       "      <td>perforated pipes (FBA)</td>\n",
       "    </tr>\n",
       "    <tr>\n",
       "      <th>5</th>\n",
       "      <td>(Fan et al., 2013a)</td>\n",
       "      <td>synthetic</td>\n",
       "      <td>lab-scale</td>\n",
       "      <td>vertical</td>\n",
       "      <td>batch-filled</td>\n",
       "      <td>bottom</td>\n",
       "      <td>porous air spargers</td>\n",
       "    </tr>\n",
       "    <tr>\n",
       "      <th>6</th>\n",
       "      <td>(Fan et al., 2013b)</td>\n",
       "      <td>synthetic</td>\n",
       "      <td>lab-scale</td>\n",
       "      <td>vertical</td>\n",
       "      <td>batch-filled</td>\n",
       "      <td>bottom</td>\n",
       "      <td>porous air spargers</td>\n",
       "    </tr>\n",
       "    <tr>\n",
       "      <th>7</th>\n",
       "      <td>(Fan et al., 2013c)</td>\n",
       "      <td>synthetic</td>\n",
       "      <td>pilot-scale</td>\n",
       "      <td>horizontal</td>\n",
       "      <td>continuous</td>\n",
       "      <td>bottom-front</td>\n",
       "      <td>quadrate tubing</td>\n",
       "    </tr>\n",
       "    <tr>\n",
       "      <th>8</th>\n",
       "      <td>(Foladori et al., 2013)</td>\n",
       "      <td>pretreated domestic</td>\n",
       "      <td>mesocosm</td>\n",
       "      <td>vertical</td>\n",
       "      <td>intermittent</td>\n",
       "      <td>bottom</td>\n",
       "      <td>perforated pipes</td>\n",
       "    </tr>\n",
       "    <tr>\n",
       "      <th>9</th>\n",
       "      <td>(Maltais-Landry et al., 2007)</td>\n",
       "      <td>fish farm effluent</td>\n",
       "      <td>mesocosm</td>\n",
       "      <td>horizontal</td>\n",
       "      <td>continuous</td>\n",
       "      <td>bottom-front</td>\n",
       "      <td>cicular tubing</td>\n",
       "    </tr>\n",
       "    <tr>\n",
       "      <th>10</th>\n",
       "      <td>(Nivala et al., 2007)</td>\n",
       "      <td>landfill leachate</td>\n",
       "      <td>pilot-scale</td>\n",
       "      <td>horizontal</td>\n",
       "      <td>continuous</td>\n",
       "      <td>bottom</td>\n",
       "      <td>perforated pipes (FBA)</td>\n",
       "    </tr>\n",
       "    <tr>\n",
       "      <th>11</th>\n",
       "      <td>(Ouellet-Plamondon et al., 2006)</td>\n",
       "      <td>fish farm effluent</td>\n",
       "      <td>mesocosm</td>\n",
       "      <td>horizontal</td>\n",
       "      <td>continuous</td>\n",
       "      <td>bottom-front</td>\n",
       "      <td>cicular tubing</td>\n",
       "    </tr>\n",
       "    <tr>\n",
       "      <th>12</th>\n",
       "      <td>(Pan et al., 2012)</td>\n",
       "      <td>low strenght mucipial</td>\n",
       "      <td>full-scale</td>\n",
       "      <td>vertical</td>\n",
       "      <td>continuous</td>\n",
       "      <td>bottom</td>\n",
       "      <td>perforated pipes</td>\n",
       "    </tr>\n",
       "    <tr>\n",
       "      <th>13</th>\n",
       "      <td>(Patil and Chakraborty, 2017)</td>\n",
       "      <td>synthetic</td>\n",
       "      <td>lab-scale</td>\n",
       "      <td>horizontal</td>\n",
       "      <td>continuous</td>\n",
       "      <td>bottom-middle</td>\n",
       "      <td>unknown</td>\n",
       "    </tr>\n",
       "    <tr>\n",
       "      <th>14</th>\n",
       "      <td>(Redmond et al., 2014)</td>\n",
       "      <td>pretreated municipal</td>\n",
       "      <td>pilot-scale</td>\n",
       "      <td>horizontal</td>\n",
       "      <td>intermittent</td>\n",
       "      <td>bottom</td>\n",
       "      <td>perforated pipes (FBA)</td>\n",
       "    </tr>\n",
       "    <tr>\n",
       "      <th>15</th>\n",
       "      <td>(Uggetti et al., 2016)</td>\n",
       "      <td>pretreated municipal</td>\n",
       "      <td>pilot-scale</td>\n",
       "      <td>horizontal</td>\n",
       "      <td>intermittent</td>\n",
       "      <td>bottom</td>\n",
       "      <td>perforated pipes</td>\n",
       "    </tr>\n",
       "    <tr>\n",
       "      <th>16</th>\n",
       "      <td>(Wu et al., 2015)</td>\n",
       "      <td>synthetic</td>\n",
       "      <td>lab-scale</td>\n",
       "      <td>vertical</td>\n",
       "      <td>batch-filled</td>\n",
       "      <td>bottom</td>\n",
       "      <td>porous air spargers</td>\n",
       "    </tr>\n",
       "    <tr>\n",
       "      <th>17</th>\n",
       "      <td>(Wu et al., 2016a)</td>\n",
       "      <td>synthetic</td>\n",
       "      <td>lab-scale</td>\n",
       "      <td>vertical</td>\n",
       "      <td>batch-filled</td>\n",
       "      <td>bottom</td>\n",
       "      <td>porous air spargers</td>\n",
       "    </tr>\n",
       "    <tr>\n",
       "      <th>18</th>\n",
       "      <td>(Wu et al., 2016b)</td>\n",
       "      <td>synthetic</td>\n",
       "      <td>lab-scale</td>\n",
       "      <td>vertical</td>\n",
       "      <td>batch-filled</td>\n",
       "      <td>bottom</td>\n",
       "      <td>porous air spargers</td>\n",
       "    </tr>\n",
       "    <tr>\n",
       "      <th>19</th>\n",
       "      <td>(Zapater-Pereyra et al., 2014)</td>\n",
       "      <td>pretreated municipal</td>\n",
       "      <td>lab-scale</td>\n",
       "      <td>horizontal</td>\n",
       "      <td>continuous</td>\n",
       "      <td>bottom</td>\n",
       "      <td>aeration tubings</td>\n",
       "    </tr>\n",
       "    <tr>\n",
       "      <th>20</th>\n",
       "      <td>(Zhong et al., 2015)</td>\n",
       "      <td>pretreated municipal</td>\n",
       "      <td>mesocosm</td>\n",
       "      <td>horizontal</td>\n",
       "      <td>continuous</td>\n",
       "      <td>inflow chamber</td>\n",
       "      <td>unknown</td>\n",
       "    </tr>\n",
       "    <tr>\n",
       "      <th>21</th>\n",
       "      <td>(Zhou et al., 2017)</td>\n",
       "      <td>synthetic</td>\n",
       "      <td>lab-scale</td>\n",
       "      <td>HTS</td>\n",
       "      <td>batch-filled</td>\n",
       "      <td>bottom</td>\n",
       "      <td>porous air spargers</td>\n",
       "    </tr>\n",
       "  </tbody>\n",
       "</table>\n",
       "</div>"
      ],
      "text/plain": [
       "                            Citation             Type of WW         Size  \\\n",
       "No                                                                         \n",
       "1               (Araya et al., 2016)   pretreated municipal    lab-scale   \n",
       "2             (Auvinen et al., 2017)      mun. and hospital  pilot-scale   \n",
       "3                (Boog et al., 2014)    pretreated domestic  pilot-scale   \n",
       "4         (Butterworth et al., 2013)     tertiary municipal   full-scale   \n",
       "5                (Fan et al., 2013a)              synthetic    lab-scale   \n",
       "6                (Fan et al., 2013b)              synthetic    lab-scale   \n",
       "7                (Fan et al., 2013c)              synthetic  pilot-scale   \n",
       "8            (Foladori et al., 2013)    pretreated domestic     mesocosm   \n",
       "9      (Maltais-Landry et al., 2007)     fish farm effluent     mesocosm   \n",
       "10             (Nivala et al., 2007)      landfill leachate  pilot-scale   \n",
       "11  (Ouellet-Plamondon et al., 2006)     fish farm effluent     mesocosm   \n",
       "12                (Pan et al., 2012)  low strenght mucipial   full-scale   \n",
       "13     (Patil and Chakraborty, 2017)              synthetic    lab-scale   \n",
       "14            (Redmond et al., 2014)   pretreated municipal  pilot-scale   \n",
       "15            (Uggetti et al., 2016)   pretreated municipal  pilot-scale   \n",
       "16                 (Wu et al., 2015)              synthetic    lab-scale   \n",
       "17                (Wu et al., 2016a)              synthetic    lab-scale   \n",
       "18                (Wu et al., 2016b)              synthetic    lab-scale   \n",
       "19    (Zapater-Pereyra et al., 2014)   pretreated municipal    lab-scale   \n",
       "20              (Zhong et al., 2015)   pretreated municipal     mesocosm   \n",
       "21               (Zhou et al., 2017)              synthetic    lab-scale   \n",
       "\n",
       "     Flow Type       Feeding Aeration placement          Aeration elements  \n",
       "No                                                                          \n",
       "1     vertical  batch-filled             bottom                    unknown  \n",
       "2     vertical    continuous             bottom  perforated pipe in spiral  \n",
       "3   horizontal  intermittent             bottom     perforated pipes (FBA)  \n",
       "4   horizontal    continuous             bottom     perforated pipes (FBA)  \n",
       "5     vertical  batch-filled             bottom        porous air spargers  \n",
       "6     vertical  batch-filled             bottom        porous air spargers  \n",
       "7   horizontal    continuous       bottom-front            quadrate tubing  \n",
       "8     vertical  intermittent             bottom           perforated pipes  \n",
       "9   horizontal    continuous       bottom-front             cicular tubing  \n",
       "10  horizontal    continuous             bottom     perforated pipes (FBA)  \n",
       "11  horizontal    continuous       bottom-front             cicular tubing  \n",
       "12    vertical    continuous             bottom           perforated pipes  \n",
       "13  horizontal    continuous      bottom-middle                    unknown  \n",
       "14  horizontal  intermittent             bottom     perforated pipes (FBA)  \n",
       "15  horizontal  intermittent             bottom           perforated pipes  \n",
       "16    vertical  batch-filled             bottom        porous air spargers  \n",
       "17    vertical  batch-filled             bottom        porous air spargers  \n",
       "18    vertical  batch-filled             bottom        porous air spargers  \n",
       "19  horizontal    continuous             bottom           aeration tubings  \n",
       "20  horizontal    continuous     inflow chamber                    unknown  \n",
       "21         HTS  batch-filled             bottom        porous air spargers  "
      ]
     },
     "execution_count": 19,
     "metadata": {},
     "output_type": "execute_result"
    }
   ],
   "source": [
    "paper_list = pd.read_excel('data/raw/papers_final_list.xlsx', index_col=0)\n",
    "paper_list"
   ]
  },
  {
   "cell_type": "markdown",
   "metadata": {},
   "source": [
    "Data from these articles were extracted as individual \"review cases\". We can find several different review cases in some articles (experiments with different parameters) so the total number of the review cases is 49. "
   ]
  },
  {
   "cell_type": "code",
   "execution_count": 10,
   "metadata": {},
   "outputs": [],
   "source": [
    "review_cases = pd.read_excel('data/raw/review_cases.xlsx')\n",
    "# print(review_cases)"
   ]
  },
  {
   "cell_type": "markdown",
   "metadata": {},
   "source": [
    "The review cases are number as such that number refers to the article number in the table (list) of papers and the 'a, b, c, etc.' distinguish the individual review cases identified in that article."
   ]
  },
  {
   "cell_type": "code",
   "execution_count": 11,
   "metadata": {},
   "outputs": [
    {
     "data": {
      "text/html": [
       "<div>\n",
       "<style scoped>\n",
       "    .dataframe tbody tr th:only-of-type {\n",
       "        vertical-align: middle;\n",
       "    }\n",
       "\n",
       "    .dataframe tbody tr th {\n",
       "        vertical-align: top;\n",
       "    }\n",
       "\n",
       "    .dataframe thead th {\n",
       "        text-align: right;\n",
       "    }\n",
       "</style>\n",
       "<table border=\"1\" class=\"dataframe\">\n",
       "  <thead>\n",
       "    <tr style=\"text-align: right;\">\n",
       "      <th></th>\n",
       "      <th>water_depth_m</th>\n",
       "      <th>HLR_lit_m2d</th>\n",
       "      <th>OLR_gCOD_m2d</th>\n",
       "    </tr>\n",
       "  </thead>\n",
       "  <tbody>\n",
       "    <tr>\n",
       "      <th>count</th>\n",
       "      <td>49.000000</td>\n",
       "      <td>49.000000</td>\n",
       "      <td>49.000000</td>\n",
       "    </tr>\n",
       "    <tr>\n",
       "      <th>mean</th>\n",
       "      <td>0.532449</td>\n",
       "      <td>121.140722</td>\n",
       "      <td>29.973675</td>\n",
       "    </tr>\n",
       "    <tr>\n",
       "      <th>std</th>\n",
       "      <td>0.274949</td>\n",
       "      <td>242.925088</td>\n",
       "      <td>31.172179</td>\n",
       "    </tr>\n",
       "    <tr>\n",
       "      <th>min</th>\n",
       "      <td>0.150000</td>\n",
       "      <td>4.000000</td>\n",
       "      <td>2.510200</td>\n",
       "    </tr>\n",
       "    <tr>\n",
       "      <th>25%</th>\n",
       "      <td>0.300000</td>\n",
       "      <td>44.600000</td>\n",
       "      <td>9.000000</td>\n",
       "    </tr>\n",
       "    <tr>\n",
       "      <th>50%</th>\n",
       "      <td>0.600000</td>\n",
       "      <td>64.000000</td>\n",
       "      <td>26.885000</td>\n",
       "    </tr>\n",
       "    <tr>\n",
       "      <th>75%</th>\n",
       "      <td>0.650000</td>\n",
       "      <td>95.000000</td>\n",
       "      <td>31.072190</td>\n",
       "    </tr>\n",
       "    <tr>\n",
       "      <th>max</th>\n",
       "      <td>1.700000</td>\n",
       "      <td>1600.000000</td>\n",
       "      <td>150.960000</td>\n",
       "    </tr>\n",
       "  </tbody>\n",
       "</table>\n",
       "</div>"
      ],
      "text/plain": [
       "       water_depth_m  HLR_lit_m2d  OLR_gCOD_m2d\n",
       "count      49.000000    49.000000     49.000000\n",
       "mean        0.532449   121.140722     29.973675\n",
       "std         0.274949   242.925088     31.172179\n",
       "min         0.150000     4.000000      2.510200\n",
       "25%         0.300000    44.600000      9.000000\n",
       "50%         0.600000    64.000000     26.885000\n",
       "75%         0.650000    95.000000     31.072190\n",
       "max         1.700000  1600.000000    150.960000"
      ]
     },
     "execution_count": 11,
     "metadata": {},
     "output_type": "execute_result"
    }
   ],
   "source": [
    "review_cases[['water_depth_m', 'HLR_lit_m2d', 'OLR_gCOD_m2d']].describe()"
   ]
  },
  {
   "cell_type": "markdown",
   "metadata": {},
   "source": [
    "There seems to be some substantial difference in the data, especially for hydraulic loading rate. We can try to plot the data to see if these differences are only due to some specific review cases."
   ]
  },
  {
   "cell_type": "code",
   "execution_count": 12,
   "metadata": {},
   "outputs": [
    {
     "data": {
      "image/png": "[encoded data removed]",
      "text/plain": [
       "<Figure size 1080x360 with 2 Axes>"
      ]
     },
     "metadata": {
      "needs_background": "light"
     },
     "output_type": "display_data"
    }
   ],
   "source": [
    "fig = plt.figure()\n",
    "ax1 = fig.add_subplot(1, 2, 1)\n",
    "ax2 = fig.add_subplot(1, 2, 2)\n",
    "review_cases[['HLR_lit_m2d']].plot(kind='hist',rwidth=0.8, bins=16, ax=ax1, figsize=(15, 5))\n",
    "review_cases[['OLR_gCOD_m2d']].plot(kind='hist',rwidth=0.8, ax=ax2, bins=15, figsize=(15, 5))\n",
    "plt.show()"
   ]
  },
  {
   "cell_type": "markdown",
   "metadata": {},
   "source": [
    "According to the histograms we can clearly see that the majority of the review cases has hydraulic loading below 100 liters par day and ORL below 30 gCOD/day."
   ]
  },
  {
   "cell_type": "code",
   "execution_count": 13,
   "metadata": {},
   "outputs": [
    {
     "data": {
      "image/png": "[encoded data removed]",
      "text/plain": [
       "<Figure size 1080x360 with 2 Axes>"
      ]
     },
     "metadata": {
      "needs_background": "light"
     },
     "output_type": "display_data"
    }
   ],
   "source": [
    "fig = plt.figure()\n",
    "ax1 = fig.add_subplot(1, 2, 1)\n",
    "ax2 = fig.add_subplot(1, 2, 2)\n",
    "review_cases[['HLR_lit_m2d']].plot(kind='box', ax=ax1, figsize=(15, 5), grid=True, ylim=(0, 200))\n",
    "review_cases[['OLR_gCOD_m2d']].plot(kind='box', ax=ax2, figsize=(15, 5), grid=True, ylim=(0, 80))\n",
    "plt.show()"
   ]
  },
  {
   "cell_type": "markdown",
   "metadata": {},
   "source": [
    "### Data Analysis"
   ]
  },
  {
   "cell_type": "markdown",
   "metadata": {},
   "source": [
    "#### Oxygen consumption rates"
   ]
  },
  {
   "cell_type": "markdown",
   "metadata": {},
   "source": [
    "##### Methodology"
   ]
  },
  {
   "cell_type": "markdown",
   "metadata": {},
   "source": [
    "Oxygen consumption rate is defined here similar to the definition of Kadlec and Wallace (2009) and is expressed as anticipated rate of oxygen consumption in a treatment wetland due to various microbial processes. For processes including the organic carbon the COD or CBOD parameters are being used and the respective quations differs accordingly (see below). For nitrification and other pathways of N-forms reduction the parameter TKN is used where possible. If not the NH4-N is used instead without changing the respective equations.\n",
    "\n",
    "_All rates are calculated in a volumetric as well as areal aproach (the rate is not defined per per volume unit or areal)._\n",
    "\n",
    "OCR calculation for review cases with COD parameter.\n",
    "\n",
    "\\begin{equation}\\label{eq:1}\n",
    "OCR_{max-COD-V} = \\frac{[1(\\Delta M_{COD} + 4.6(\\Delta M_{TKN})]}{V}\n",
    "\\end{equation}\n",
    "\n",
    "\\begin{equation}\\label{eq:2}\n",
    "OCR_{int-COD-V} = \\frac{[0.5(\\Delta M_{COD} + 1.7(\\Delta M_{TKN})]}{V}\n",
    "\\end{equation}\n",
    "\n",
    "\\begin{equation}\\label{eq:3}\n",
    "OCR_{min} = \\frac{[1.7(\\Delta M_{TKN})]}{V}\n",
    "\\end{equation}\n",
    "\n",
    "OCR calculation for review cases with CBOD parameter.\n",
    "\n",
    "\\begin{equation}\\label{eq:4}\n",
    "OCR_{max-CBOD-V} = \\frac{[1.5(\\Delta M_{CBOD} + 4.6(\\Delta M_{TKN})]}{V}\n",
    "\\end{equation}\n",
    "\n",
    "\\begin{equation}\\label{eq:5}\n",
    "OCR_{int-CBOD-V} = \\frac{[1(\\Delta M_{CBOD} + 1.7(\\Delta M_{TKN})]}{V}\n",
    "\\end{equation}\n",
    "\n",
    "\\begin{equation}\\label{eq:6}\n",
    "OCR_{min} = \\frac{[1.7(\\Delta M_{TKN})]}{V}\n",
    "\\end{equation}\n",
    "\n",
    "$\\Delta M$ is always as:\n",
    "\n",
    "\\begin{equation}\\label{eq:7}\n",
    "\\Delta M =  Q_i \\times C_i - Q_0 \\times C_0\n",
    "\\end{equation}\n",
    "\n",
    "<i>V</i> - volume of wetland (m3), <i>M</i> - pollutant mass flow rate (g/d), <i>Q<sub>i</sub></i> - inflow Rate (m3/d), *Q<sub>o</sub>* - outflow rate (m3/d); *C<sub>i</sub>* - inlet concentration, (g/m3), *C<sub>o</sub>* - outlet concentration (g.m3), OCR - oxygen consumption rate (g/m2.d). *V* can be changed for *A* - wetalnd area (m2) for areal rate calculation."
   ]
  },
  {
   "cell_type": "markdown",
   "metadata": {},
   "source": [
    "In our table with all review cases we have these columns already defined:\n",
    "- <mark>area_m2</mark> - wetland area in square meters\n",
    "- <mark>volume_m3</mark> - wetted volume of the wetland (so not the total volume, but area x depth of water)\n",
    "- <mark>daily_flow_lit</mark> - daily flow in liters\n",
    "- <mark>CBOD_IN</mark> - inflow concentration for CBOD in mg per liter\n",
    "- <mark>CBOD_OUT</mark> - outflow concentration for CBOD in mg per liter\n",
    "- <mark>deltaCBOD</mark> - difference between inflow an outflow concetration in mg per liter\n",
    "- columns for COD, TKN and NH4 are defined ni similar manner"
   ]
  },
  {
   "cell_type": "code",
   "execution_count": 34,
   "metadata": {},
   "outputs": [
    {
     "data": {
      "text/plain": [
       "Index(['Reference', 'number', 'water_depth_m', 'area_m2', 'volume_m3',\n",
       "       'porosity', 'voids_m3', 'HLR_lit_m2d', 'daily_flow_lit', 'OLR_gCOD_m2d',\n",
       "       'HRT_h', 'HRT_days', 'air_flow_m3h', 'aer_duration_h_day',\n",
       "       'air_per_day_m3', 'air_per_HRT_m3', 'COD_IN', 'COD_OUT', 'deltaCOD',\n",
       "       'CBOD_IN', 'CBOD_OUT', 'deltaCBOD', 'TKN_IN', 'TKN_OUT', 'deltaTKN',\n",
       "       'NH4_IN', 'NH4_OUT', 'deltaNH4'],\n",
       "      dtype='object')"
      ]
     },
     "execution_count": 34,
     "metadata": {},
     "output_type": "execute_result"
    }
   ],
   "source": [
    "review_cases.columns"
   ]
  },
  {
   "cell_type": "markdown",
   "metadata": {},
   "source": [
    "As the inflow and outflow volume is still the same ((in liters)) and mg/l are same as g/m3 we can compute the $\\Delta M$ form equation 7 directly as $Q_d \\times 0.001 \\times \\Delta C  $"
   ]
  },
  {
   "cell_type": "markdown",
   "metadata": {},
   "source": [
    "With the help of for loop we than calculate the oxygen consumption rates in both volumetric and areal form."
   ]
  },
  {
   "cell_type": "code",
   "execution_count": 14,
   "metadata": {},
   "outputs": [
    {
     "name": "stderr",
     "output_type": "stream",
     "text": [
      "c:\\users\\dell\\.virtualenvs\\aerationreview-wzvxscyu\\lib\\site-packages\\ipykernel_launcher.py:12: FutureWarning:\n",
      "\n",
      "Sorting because non-concatenation axis is not aligned. A future version\n",
      "of pandas will change to not sort by default.\n",
      "\n",
      "To accept the future behavior, pass 'sort=False'.\n",
      "\n",
      "To retain the current behavior and silence the warning, pass 'sort=True'.\n",
      "\n",
      "\n"
     ]
    }
   ],
   "source": [
    "# checking for missing COD and TKN values\n",
    "COD_nan = review_cases['deltaCOD'].notnull()\n",
    "TKN_nan = review_cases['deltaTKN'].notnull()\n",
    "\n",
    "# adding blank columns for volumetric and areal OCR values before calculation  \n",
    "pd.concat([review_cases, \n",
    "           pd.DataFrame(columns = ['OCR_max_v',\n",
    "                                   'OCR_int_v',\n",
    "                                   'OCR_min_v',\n",
    "                                   'OCR_max_a',\n",
    "                                   'OCR_int_a',\n",
    "                                   'OCR_min_a'\n",
    "                                  ])])\n",
    "\n",
    "for i in range(0, len(review_cases)):\n",
    "    \n",
    "    # daily flow and volume is the same whatever conc parameters are used\n",
    "    daily_flow = review_cases.loc[i, 'daily_flow_lit']\n",
    "    volume = review_cases.loc[i, 'volume_m3']\n",
    "    area = review_cases.loc[i, 'area_m2']\n",
    "    \n",
    "    # calculation for COD values\n",
    "    if COD_nan[i] == True:\n",
    "        deltaCOD = review_cases.loc[i, 'deltaCOD']\n",
    "        \n",
    "        M_COD = daily_flow * 0.001 * deltaCOD\n",
    "        \n",
    "        if TKN_nan[i] == True:\n",
    "            deltaTKN = review_cases.loc[i, 'deltaTKN']\n",
    "        else:\n",
    "            deltaTKN = review_cases.loc[i, 'deltaNH4']\n",
    "        \n",
    "        M_TKN = daily_flow * 0.001 * deltaTKN\n",
    "        \n",
    "        # volumetric OCR values\n",
    "        OCR_max_v = ((1 * M_COD) + (4.6 * M_TKN)) / volume\n",
    "        OCR_int_v = ((0.5 * M_COD) + (1.7 * M_TKN)) / volume\n",
    "        OCR_min_v = (1.7 * M_TKN) / volume\n",
    "\n",
    "        # areal OCR values\n",
    "        OCR_max_a = ((1 * M_COD) + (4.6 * M_TKN)) / area\n",
    "        OCR_int_a = ((0.5 * M_COD) + (1.7 * M_TKN)) / area\n",
    "        OCR_min_a = (1.7 * M_TKN) / area\n",
    "        \n",
    "    # calculation for CBOD values\n",
    "    else:\n",
    "        deltaCBOD = review_cases.loc[i, 'deltaCBOD']\n",
    "        \n",
    "        M_CBOD = daily_flow * 0.001 * deltaCBOD\n",
    "        \n",
    "        if TKN_nan[i] == True:\n",
    "            deltaTKN = review_cases.loc[i, 'deltaTKN']\n",
    "        else:\n",
    "            deltaTKN = review_cases.loc[i, 'deltaNH4']\n",
    "        \n",
    "        M_TKN = daily_flow * 0.001 * deltaTKN\n",
    "        \n",
    "        # volumetric OCR values\n",
    "        OCR_max_v = ((1.5 * M_CBOD) + (4.6 * M_TKN)) / volume\n",
    "        OCR_int_v = ((1 * M_CBOD) + (1.7 * M_TKN)) / volume\n",
    "        OCR_min_v = (1.7 * M_TKN) / volume\n",
    "\n",
    "        # areal OCR values\n",
    "        OCR_max_a = ((1.5 * M_CBOD) + (4.6 * M_TKN)) / area\n",
    "        OCR_int_a = ((1 * M_CBOD) + (1.7 * M_TKN)) / area\n",
    "        OCR_min_a = (1.7 * M_TKN) / area\n",
    "    \n",
    "    # writing the values to the dataframe\n",
    "    review_cases.loc[i, 'OCR_max_v'] = OCR_max_v\n",
    "    review_cases.loc[i, 'OCR_int_v'] = OCR_int_v\n",
    "    review_cases.loc[i, 'OCR_min_v'] = OCR_min_v\n",
    "    review_cases.loc[i, 'OCR_max_a'] = OCR_max_a\n",
    "    review_cases.loc[i, 'OCR_int_a'] = OCR_int_a\n",
    "    review_cases.loc[i, 'OCR_min_a'] = OCR_min_v"
   ]
  },
  {
   "cell_type": "code",
   "execution_count": 15,
   "metadata": {},
   "outputs": [
    {
     "data": {
      "text/html": [
       "<div>\n",
       "<style scoped>\n",
       "    .dataframe tbody tr th:only-of-type {\n",
       "        vertical-align: middle;\n",
       "    }\n",
       "\n",
       "    .dataframe tbody tr th {\n",
       "        vertical-align: top;\n",
       "    }\n",
       "\n",
       "    .dataframe thead th {\n",
       "        text-align: right;\n",
       "    }\n",
       "</style>\n",
       "<table border=\"1\" class=\"dataframe\">\n",
       "  <thead>\n",
       "    <tr style=\"text-align: right;\">\n",
       "      <th></th>\n",
       "      <th>Reference</th>\n",
       "      <th>number</th>\n",
       "      <th>water_depth_m</th>\n",
       "      <th>area_m2</th>\n",
       "      <th>volume_m3</th>\n",
       "      <th>porosity</th>\n",
       "      <th>voids_m3</th>\n",
       "      <th>HLR_lit_m2d</th>\n",
       "      <th>daily_flow_lit</th>\n",
       "      <th>OLR_gCOD_m2d</th>\n",
       "      <th>...</th>\n",
       "      <th>deltaTKN</th>\n",
       "      <th>NH4_IN</th>\n",
       "      <th>NH4_OUT</th>\n",
       "      <th>deltaNH4</th>\n",
       "      <th>OCR_max_v</th>\n",
       "      <th>OCR_int_v</th>\n",
       "      <th>OCR_min_v</th>\n",
       "      <th>OCR_max_a</th>\n",
       "      <th>OCR_int_a</th>\n",
       "      <th>OCR_min_a</th>\n",
       "    </tr>\n",
       "  </thead>\n",
       "  <tbody>\n",
       "    <tr>\n",
       "      <th>0</th>\n",
       "      <td>(Araya et al., 2016)</td>\n",
       "      <td>1a</td>\n",
       "      <td>0.15</td>\n",
       "      <td>0.063</td>\n",
       "      <td>0.00945</td>\n",
       "      <td>NaN</td>\n",
       "      <td>0.001417</td>\n",
       "      <td>15.873016</td>\n",
       "      <td>1.0</td>\n",
       "      <td>4.444444</td>\n",
       "      <td>...</td>\n",
       "      <td>NaN</td>\n",
       "      <td>114.0</td>\n",
       "      <td>27.36</td>\n",
       "      <td>86.64</td>\n",
       "      <td>61.433228</td>\n",
       "      <td>25.215661</td>\n",
       "      <td>15.586032</td>\n",
       "      <td>9.214984</td>\n",
       "      <td>3.782349</td>\n",
       "      <td>15.586032</td>\n",
       "    </tr>\n",
       "    <tr>\n",
       "      <th>1</th>\n",
       "      <td>(Araya et al., 2016)</td>\n",
       "      <td>1b</td>\n",
       "      <td>0.15</td>\n",
       "      <td>0.063</td>\n",
       "      <td>0.00945</td>\n",
       "      <td>NaN</td>\n",
       "      <td>0.001417</td>\n",
       "      <td>15.873016</td>\n",
       "      <td>1.0</td>\n",
       "      <td>6.317460</td>\n",
       "      <td>...</td>\n",
       "      <td>NaN</td>\n",
       "      <td>112.0</td>\n",
       "      <td>72.80</td>\n",
       "      <td>39.20</td>\n",
       "      <td>44.351323</td>\n",
       "      <td>19.686772</td>\n",
       "      <td>7.051852</td>\n",
       "      <td>6.652698</td>\n",
       "      <td>2.953016</td>\n",
       "      <td>7.051852</td>\n",
       "    </tr>\n",
       "    <tr>\n",
       "      <th>2</th>\n",
       "      <td>(Araya et al., 2016)</td>\n",
       "      <td>1c</td>\n",
       "      <td>0.15</td>\n",
       "      <td>0.063</td>\n",
       "      <td>0.00945</td>\n",
       "      <td>NaN</td>\n",
       "      <td>0.001417</td>\n",
       "      <td>15.873016</td>\n",
       "      <td>1.0</td>\n",
       "      <td>5.396825</td>\n",
       "      <td>...</td>\n",
       "      <td>NaN</td>\n",
       "      <td>54.0</td>\n",
       "      <td>11.34</td>\n",
       "      <td>42.66</td>\n",
       "      <td>47.390053</td>\n",
       "      <td>20.986455</td>\n",
       "      <td>7.674286</td>\n",
       "      <td>7.108508</td>\n",
       "      <td>3.147968</td>\n",
       "      <td>7.674286</td>\n",
       "    </tr>\n",
       "    <tr>\n",
       "      <th>3</th>\n",
       "      <td>(Auvinen et al., 2017)</td>\n",
       "      <td>2a</td>\n",
       "      <td>0.75</td>\n",
       "      <td>1.000</td>\n",
       "      <td>0.75000</td>\n",
       "      <td>0.4</td>\n",
       "      <td>0.300000</td>\n",
       "      <td>360.000000</td>\n",
       "      <td>360.0</td>\n",
       "      <td>60.480000</td>\n",
       "      <td>...</td>\n",
       "      <td>NaN</td>\n",
       "      <td>24.0</td>\n",
       "      <td>0.00</td>\n",
       "      <td>24.00</td>\n",
       "      <td>121.152000</td>\n",
       "      <td>53.664000</td>\n",
       "      <td>19.584000</td>\n",
       "      <td>90.864000</td>\n",
       "      <td>40.248000</td>\n",
       "      <td>19.584000</td>\n",
       "    </tr>\n",
       "    <tr>\n",
       "      <th>4</th>\n",
       "      <td>(Auvinen et al., 2017)</td>\n",
       "      <td>2b</td>\n",
       "      <td>0.75</td>\n",
       "      <td>1.000</td>\n",
       "      <td>0.75000</td>\n",
       "      <td>0.4</td>\n",
       "      <td>0.300000</td>\n",
       "      <td>680.000000</td>\n",
       "      <td>680.0</td>\n",
       "      <td>150.960000</td>\n",
       "      <td>...</td>\n",
       "      <td>NaN</td>\n",
       "      <td>33.0</td>\n",
       "      <td>5.60</td>\n",
       "      <td>27.40</td>\n",
       "      <td>289.262933</td>\n",
       "      <td>129.725867</td>\n",
       "      <td>42.232533</td>\n",
       "      <td>216.947200</td>\n",
       "      <td>97.294400</td>\n",
       "      <td>42.232533</td>\n",
       "    </tr>\n",
       "  </tbody>\n",
       "</table>\n",
       "<p>5 rows × 34 columns</p>\n",
       "</div>"
      ],
      "text/plain": [
       "                Reference number  water_depth_m  area_m2  volume_m3  porosity  \\\n",
       "0    (Araya et al., 2016)     1a           0.15    0.063    0.00945       NaN   \n",
       "1    (Araya et al., 2016)     1b           0.15    0.063    0.00945       NaN   \n",
       "2    (Araya et al., 2016)     1c           0.15    0.063    0.00945       NaN   \n",
       "3  (Auvinen et al., 2017)     2a           0.75    1.000    0.75000       0.4   \n",
       "4  (Auvinen et al., 2017)     2b           0.75    1.000    0.75000       0.4   \n",
       "\n",
       "   voids_m3  HLR_lit_m2d  daily_flow_lit  OLR_gCOD_m2d  ...  deltaTKN  NH4_IN  \\\n",
       "0  0.001417    15.873016             1.0      4.444444  ...       NaN   114.0   \n",
       "1  0.001417    15.873016             1.0      6.317460  ...       NaN   112.0   \n",
       "2  0.001417    15.873016             1.0      5.396825  ...       NaN    54.0   \n",
       "3  0.300000   360.000000           360.0     60.480000  ...       NaN    24.0   \n",
       "4  0.300000   680.000000           680.0    150.960000  ...       NaN    33.0   \n",
       "\n",
       "   NH4_OUT  deltaNH4   OCR_max_v   OCR_int_v  OCR_min_v   OCR_max_a  \\\n",
       "0    27.36     86.64   61.433228   25.215661  15.586032    9.214984   \n",
       "1    72.80     39.20   44.351323   19.686772   7.051852    6.652698   \n",
       "2    11.34     42.66   47.390053   20.986455   7.674286    7.108508   \n",
       "3     0.00     24.00  121.152000   53.664000  19.584000   90.864000   \n",
       "4     5.60     27.40  289.262933  129.725867  42.232533  216.947200   \n",
       "\n",
       "   OCR_int_a  OCR_min_a  \n",
       "0   3.782349  15.586032  \n",
       "1   2.953016   7.051852  \n",
       "2   3.147968   7.674286  \n",
       "3  40.248000  19.584000  \n",
       "4  97.294400  42.232533  \n",
       "\n",
       "[5 rows x 34 columns]"
      ]
     },
     "execution_count": 15,
     "metadata": {},
     "output_type": "execute_result"
    }
   ],
   "source": [
    "review_cases.head()"
   ]
  },
  {
   "cell_type": "markdown",
   "metadata": {},
   "source": [
    "##### Oxygen Consumption rate results"
   ]
  },
  {
   "cell_type": "code",
   "execution_count": 16,
   "metadata": {},
   "outputs": [
    {
     "name": "stdout",
     "output_type": "stream",
     "text": [
      "For maximum volumetric oxygen consumption rate the:\n",
      "- Average value is 78.50 and median value is 59.24 g/day.\n",
      "- Minimum value is 8.91 and maximum is 419.77 g/day.\n",
      "\n",
      "For intermediate volumetric oxygen consumption rate the:\n",
      "- Average value is 36.00 and median value is 27.29 g/day.\n",
      "- Minimum value is 4.10 and maximum is 188.28 g/day.\n",
      "\n",
      "For minimum volumetric oxygen consumption rate the:\n",
      "- Average value is 10.20 and median value is 6.84 g/day.\n",
      "- Minimum value is 1.01 and maximum is 61.22 g/day.\n",
      "\n",
      "For maximum areal oxygen consumption rate the:\n",
      "- Average value is 41.55 and median value is 33.76 g/day.\n",
      "- Minimum value is 3.38 and maximum is 216.95 g/day.\n",
      "\n",
      "For intermediate areal oxygen consumption rate the:\n",
      "- Average value is 19.13 and median value is 15.98 g/day.\n",
      "- Minimum value is 1.56 and maximum is 97.29 g/day.\n",
      "\n",
      "For minimum areal oxygen consumption rate the:\n",
      "- Average value is 10.20 and median value is 6.84 g/day.\n",
      "- Minimum value is 1.01 and maximum is 61.22 g/day.\n",
      "\n"
     ]
    }
   ],
   "source": [
    "r_col = ['OCR_max_v', 'OCR_int_v', 'OCR_min_v', 'OCR_max_a', 'OCR_int_a', 'OCR_min_a']\n",
    "\n",
    "for col in r_col:\n",
    "    avg = review_cases[col].mean()\n",
    "    median = review_cases[col].median()\n",
    "    min_v = review_cases[col].min()\n",
    "    max_v = review_cases[col].max()\n",
    "    \n",
    "    if \"max\" in col:\n",
    "        add = \" maximum \"\n",
    "    elif \"int\" in col:\n",
    "        add = \" intermediate \"\n",
    "    else:\n",
    "        add = \" minimum \"\n",
    "    \n",
    "    if \"v\" in col:\n",
    "        print(\"For\" + add + \"volumetric oxygen consumption rate the:\")\n",
    "    else:\n",
    "        print(\"For\" + add + \"areal oxygen consumption rate the:\")\n",
    "        \n",
    "    print(\"- Average value is %0.2f and median value is %0.2f g/day.\" % (avg, median))\n",
    "    print(\"- Minimum value is %0.2f and maximum is %0.2f g/day.\" % (min_v, max_v))\n",
    "    print(\"\")"
   ]
  },
  {
   "cell_type": "markdown",
   "metadata": {},
   "source": [
    "**Oxygen consumption rate versus organic loading**"
   ]
  },
  {
   "cell_type": "code",
   "execution_count": 69,
   "metadata": {
    "scrolled": true
   },
   "outputs": [
    {
     "data": {
      "image/png": "[encoded data removed]",
      "text/plain": [
       "<Figure size 1080x360 with 2 Axes>"
      ]
     },
     "metadata": {
      "needs_background": "light"
     },
     "output_type": "display_data"
    }
   ],
   "source": [
    "fig = plt.figure()\n",
    "ax1 = fig.add_subplot(1, 2, 1)\n",
    "ax2 = fig.add_subplot(1, 2, 2)\n",
    "fnt=14\n",
    "labelpad=10\n",
    "review_cases.plot(kind='scatter', x='OCR_int_v', y='OLR_gCOD_m2d', ax=ax1, figsize=(15, 5), grid=True)\n",
    "review_cases.plot(kind='scatter', x='OLR_gCOD_m2d', y='OCR_int_a', ax=ax2, figsize=(15, 5), grid=True)\n",
    "ax1.set_xlabel('Volumetric OCR (g/m3.d)', fontsize=fnt, labelpad=labelpad)\n",
    "ax2.set_xlabel('Areal OCR (g/m3.d)', fontsize=fnt, labelpad=labelpad)\n",
    "ax1.set_ylabel('OLR (gCOD/m2.d)', fontsize=fnt, labelpad=labelpad)\n",
    "ax2.set_ylabel('', fontsize=fnt, labelpad=labelpad)\n",
    "ax1.set_title('Organic loading rate versus volumetric OCR', fontsize=fnt, pad=labelpad)\n",
    "ax2.set_title('Organic loading rate versus areal OCR', fontsize=fnt, pad=labelpad)\n",
    "plt.show()"
   ]
  },
  {
   "cell_type": "markdown",
   "metadata": {},
   "source": [
    "**Oxygen consumption rate versus hydraulic loading**"
   ]
  },
  {
   "cell_type": "code",
   "execution_count": 70,
   "metadata": {},
   "outputs": [
    {
     "data": {
      "image/png": "[encoded data removed]",
      "text/plain": [
       "<Figure size 1080x720 with 2 Axes>"
      ]
     },
     "metadata": {
      "needs_background": "light"
     },
     "output_type": "display_data"
    }
   ],
   "source": [
    "fig = plt.figure()\n",
    "ax1 = fig.add_subplot(1, 2, 1)\n",
    "ax2 = fig.add_subplot(1, 2, 2)\n",
    "fnt=16\n",
    "labelpad=10\n",
    "review_cases.plot(kind='scatter', x='HLR_lit_m2d', y='OCR_int_v', ax=ax1, figsize=(15, 10), grid=True,\n",
    "                 title='Hydraulic loading rate versus volumetric OCR', fontsize=fnt)\n",
    "review_cases.plot(kind='scatter', x='HLR_lit_m2d', y='OCR_int_a', ax=ax2, figsize=(15, 10), grid=True,\n",
    "                 title='Hydraulic loading rate versus areal OCR', fontsize=fnt)\n",
    "ax1.set_xlabel('Hydraulic loading rate (liters/m2.d)', fontsize=fnt, labelpad=labelpad)\n",
    "ax2.set_xlabel('Hydraulic loading rate (liters/m2.d)', fontsize=fnt, labelpad=labelpad)\n",
    "ax1.set_ylabel('Volumetric Oxygen consumption rate (g/d)', fontsize=fnt, labelpad=labelpad)\n",
    "ax2.set_ylabel('Areal Oxygen consumption rate (g/d)', fontsize=fnt, labelpad=labelpad)\n",
    "plt.show()"
   ]
  },
  {
   "cell_type": "markdown",
   "metadata": {},
   "source": [
    "#### Oxygen consumption during HRT"
   ]
  },
  {
   "cell_type": "markdown",
   "metadata": {},
   "source": [
    "##### Methodology"
   ]
  },
  {
   "cell_type": "markdown",
   "metadata": {},
   "source": [
    "Oxygen consumption (OC) is calculated similar as the oxygen consumption rate. The main difference is that the oxygen consumption is not defined as rate (per unit of area / volume), but as a total oxygen consumption for a give hydraulic retention time. In other words - how much oxygen is theoretically consumed by microbial processes in the time when the wastewater enters the system till the time the water exits the system.\n",
    "\n",
    "OC calculation for review cases with COD parameter.\n",
    "\n",
    "\\begin{equation}\\label{eq:8}\n",
    "OC_(max) = 1(\\Delta m_{COD} + 4.6(\\Delta m_{TKN})\n",
    "\\end{equation}\n",
    "\n",
    "\\begin{equation}\\label{eq:9}\n",
    "OC_(int) = 0.5(\\Delta m_{COD} + 1.7(\\Delta m_{TKN})\n",
    "\\end{equation}\n",
    "\n",
    "\\begin{equation}\\label{eq:10}\n",
    "OC_m = 1.7 \\times m_TKN\n",
    "\\end{equation}\n",
    "\n",
    "OC calculation for review cases with CBOD parameter.\n",
    "\n",
    "\\begin{equation}\\label{eq:11}\n",
    "OC_(max) = 1.5(\\Delta m_{COD} + 4.6(\\Delta m_{TKN})\n",
    "\\end{equation}\n",
    "\n",
    "\\begin{equation}\\label{eq:12}\n",
    "OC_{int} = 1(\\Delta m_{COD} + 1.7(\\Delta m_{TKN})\n",
    "\\end{equation}\n",
    "\n",
    "\\begin{equation}\\label{eq:13}\n",
    "OC_{min} = 1.7(\\Delta m_{TKN})\n",
    "\\end{equation}\n",
    "\n",
    "$ \\Delta m $ is defined se the load difference after the hydraulic retention time:\n",
    "\n",
    "\\begin{equation}\\label{eq:14}\n",
    "\\Delta m =  q_i \\times C_i - q_0 \\times C_0\n",
    "\\end{equation}\n",
    "\n",
    "<i>m</i> - pollutant mass flow (g/HRT), <i>q<sub>i</sub></i> - inflow (m3/HRT), *q<sub>o</sub>* - outflow (m3/HRT); *C<sub>i</sub>* - inlet concentration, (g/m3), *C<sub>o</sub>* - outlet concentration (g.m3), OC - oxygen consumption during HRT (g)."
   ]
  },
  {
   "cell_type": "markdown",
   "metadata": {},
   "source": [
    "We can use equivalent form of calculation for the oxygen consumption."
   ]
  },
  {
   "cell_type": "code",
   "execution_count": 18,
   "metadata": {},
   "outputs": [
    {
     "name": "stderr",
     "output_type": "stream",
     "text": [
      "c:\\users\\dell\\.virtualenvs\\aerationreview-wzvxscyu\\lib\\site-packages\\ipykernel_launcher.py:9: FutureWarning:\n",
      "\n",
      "Sorting because non-concatenation axis is not aligned. A future version\n",
      "of pandas will change to not sort by default.\n",
      "\n",
      "To accept the future behavior, pass 'sort=False'.\n",
      "\n",
      "To retain the current behavior and silence the warning, pass 'sort=True'.\n",
      "\n",
      "\n"
     ]
    }
   ],
   "source": [
    "# checking for missing COD and TKN values\n",
    "COD_nan = review_cases['deltaCOD'].notnull()\n",
    "TKN_nan = review_cases['deltaTKN'].notnull()\n",
    "\n",
    "# adding blank columns for OC values before calculation  \n",
    "pd.concat([review_cases, \n",
    "           pd.DataFrame(columns = ['OC_max',\n",
    "                                   'OC_int',\n",
    "                                   'OC_min',\n",
    "                                  ])])\n",
    "\n",
    "for i in range(0, len(review_cases)):\n",
    "    \n",
    "    # total flow during HRT\n",
    "    hrt_flow = review_cases.loc[i, 'daily_flow_lit'] * review_cases.loc[i, 'HRT_days']\n",
    "    \n",
    "    # calculation for COD values\n",
    "    if COD_nan[i] == True:\n",
    "        deltaCOD = review_cases.loc[i, 'deltaCOD']\n",
    "        \n",
    "        m_COD = hrt_flow * 0.001 * deltaCOD\n",
    "        \n",
    "        if TKN_nan[i] == True:\n",
    "            deltaTKN = review_cases.loc[i, 'deltaTKN']\n",
    "        else:\n",
    "            deltaTKN = review_cases.loc[i, 'deltaNH4']\n",
    "        \n",
    "        m_TKN = hrt_flow * 0.001 * deltaTKN\n",
    "        \n",
    "        # OC values - COD computation\n",
    "        OC_max = ((1 * m_COD) + (4.6 * m_TKN))\n",
    "        OC_int = ((0.5 * m_COD) + (1.7 * m_TKN))\n",
    "        OC_min = (1.7 * m_TKN)\n",
    "        \n",
    "    # calculation for CBOD values\n",
    "    else:\n",
    "        deltaCBOD = review_cases.loc[i, 'deltaCBOD']\n",
    "        \n",
    "        m_CBOD = hrt_flow * 0.001 * deltaCBOD\n",
    "        \n",
    "        if TKN_nan[i] == True:\n",
    "            deltaTKN = review_cases.loc[i, 'deltaTKN']\n",
    "        else:\n",
    "            deltaTKN = review_cases.loc[i, 'deltaNH4']\n",
    "        \n",
    "        m_TKN = hrt_flow * 0.001 * deltaTKN\n",
    "        \n",
    "        # OC values - CBOD computation\n",
    "        OC_max = ((1.5 * m_CBOD) + (4.6 * m_TKN))\n",
    "        OC_int = ((1 * m_CBOD) + (1.7 * m_TKN))\n",
    "        OC_min = (1.7 * m_TKN)\n",
    "    \n",
    "    # writing the values to the dataframe\n",
    "    review_cases.loc[i, 'OC_max'] = OC_max\n",
    "    review_cases.loc[i, 'OC_int'] = OC_int\n",
    "    review_cases.loc[i, 'OC_min'] = OC_min"
   ]
  },
  {
   "cell_type": "markdown",
   "metadata": {},
   "source": [
    "##### Oxygen Consumption results"
   ]
  },
  {
   "cell_type": "code",
   "execution_count": 19,
   "metadata": {},
   "outputs": [
    {
     "name": "stdout",
     "output_type": "stream",
     "text": [
      "For maximum oxygen consumption the:\n",
      "- Average value is 2800.68 and median value is 10.68 g during HRT.\n",
      "- Minimum value is 1.19 and maximum is 80440.57 g during HRT.\n",
      "\n",
      "For intermediate oxygen consumption the:\n",
      "- Average value is 1203.79 and median value is 4.81 g during HRT.\n",
      "- Minimum value is 0.56 and maximum is 35293.19 g during HRT.\n",
      "\n",
      "For minimum oxygen consumption the:\n",
      "- Average value is 576.20 and median value is 1.48 g during HRT.\n",
      "- Minimum value is 0.11 and maximum is 13960.11 g during HRT.\n",
      "\n"
     ]
    }
   ],
   "source": [
    "r_col = ['OC_max', 'OC_int', 'OC_min']\n",
    "\n",
    "for col in r_col:\n",
    "    avg = review_cases[col].mean()\n",
    "    median = review_cases[col].median()\n",
    "    min_v = review_cases[col].min()\n",
    "    max_v = review_cases[col].max()\n",
    "    \n",
    "    if \"max\" in col:\n",
    "        add = \" maximum \"\n",
    "    elif \"int\" in col:\n",
    "        add = \" intermediate \"\n",
    "    else:\n",
    "        add = \" minimum \"\n",
    "    \n",
    "    if \"v\" in col:\n",
    "        print(\"For\" + add + \"oxygen consumption the:\")\n",
    "    else:\n",
    "        print(\"For\" + add + \"oxygen consumption the:\")\n",
    "        \n",
    "    print(\"- Average value is %0.2f and median value is %0.2f g during HRT.\" % (avg, median))\n",
    "    print(\"- Minimum value is %0.2f and maximum is %0.2f g during HRT.\" % (min_v, max_v))\n",
    "    print(\"\")"
   ]
  },
  {
   "cell_type": "markdown",
   "metadata": {},
   "source": [
    "#### Aeration efficiency"
   ]
  },
  {
   "cell_type": "markdown",
   "metadata": {},
   "source": [
    "##### Methodology"
   ]
  },
  {
   "cell_type": "markdown",
   "metadata": {},
   "source": [
    "In previous chapter we calculated the theoretical total amount of oxygen consumed by microbial processes during the hydraulic retention time of the wetland system. In the same manner we can now calculate the total oxygen amount delivered to the system:\n",
    "\n",
    "\\begin{equation}\\label{eq:15}\n",
    "OI = Q_(air) \\times ATD \\times HRT \\times \\rho_(air) \\times \\omega_(air)\n",
    "\\end{equation}\n",
    "\n",
    "where\n",
    "\n",
    "$OI$ - oxygen input (g/HRT), $Q_(air)$ - air flow (m3/h), $ATD$ - aeration time per day (h per day), $HRT$ - hydraulic retention time (days), $\\rho_(air)$ - density of air (1215 g/m3) and  $\\omega_(air)$ - a mass fraction of oxygen in air (21%)"
   ]
  },
  {
   "cell_type": "markdown",
   "metadata": {},
   "source": [
    "Than we can calculate the aeration efficiency as the ratio between the total oxygen input to the system (with forced aeration) and the total amount of oxygen used in the system (oxygen input minus consumed oxygen).\n",
    "The aeration efficiency will be computed for the three microbial activity scenarios (maximum, intermediate and minimum) and expressed as percents.\n",
    "\n",
    "\\begin{equation}\\label{eq:16}\n",
    "AE = \\frac{OC}{OI} \\times 100\n",
    "\\end{equation}\n"
   ]
  },
  {
   "cell_type": "code",
   "execution_count": 20,
   "metadata": {},
   "outputs": [],
   "source": [
    "Q_air = review_cases['air_flow_m3h']\n",
    "ATD = review_cases['aer_duration_h_day']\n",
    "HRT = review_cases['HRT_days']\n",
    "\n",
    "review_cases['OI'] = Q_air * ATD * HRT * 1215 * 0.21"
   ]
  },
  {
   "cell_type": "code",
   "execution_count": 21,
   "metadata": {},
   "outputs": [],
   "source": [
    "OI = review_cases['OI']\n",
    "OC_max = review_cases['OC_max']\n",
    "OC_int = review_cases['OC_int']\n",
    "OC_min = review_cases['OC_min']\n",
    "\n",
    "review_cases['AE_max'] = OC_max / OI * 100\n",
    "review_cases['AE_int'] = OC_int / OI * 100\n",
    "review_cases['AE_min'] = OC_min / OI * 100"
   ]
  },
  {
   "cell_type": "code",
   "execution_count": 22,
   "metadata": {},
   "outputs": [],
   "source": [
    "# export of the calculated file\n",
    "\n",
    "# review_cases.to_csv('data/final/review_cases_final.csv', index=False)"
   ]
  },
  {
   "cell_type": "markdown",
   "metadata": {},
   "source": [
    "## Results"
   ]
  },
  {
   "cell_type": "code",
   "execution_count": 4,
   "metadata": {},
   "outputs": [],
   "source": [
    "# import of the final bresults\n",
    "\n",
    "review_cases = pd.read_csv('data/final/review_cases_final.csv')\n",
    "# review_cases.head()"
   ]
  },
  {
   "cell_type": "markdown",
   "metadata": {},
   "source": [
    "### Overall results"
   ]
  },
  {
   "cell_type": "code",
   "execution_count": 58,
   "metadata": {},
   "outputs": [
    {
     "name": "stdout",
     "output_type": "stream",
     "text": [
      "For maximum aeration efficinecy the:\n",
      "- Average value is 3.74% and median value is 1.08%.\n",
      "- Minimum value is 0.01% and maximum is 74.36%.\n",
      "- Standard deviation is 10.87%.\n",
      "\n",
      "For intermediate aeration efficinecy the:\n",
      "- Average value is 1.73% and median value is 0.48%.\n",
      "- Minimum value is 0.01% and maximum is 33.72%.\n",
      "- Standard deviation is 4.95%.\n",
      "\n",
      "For minimum aeration efficinecy the:\n",
      "- Average value is 0.45% and median value is 0.14%.\n",
      "- Minimum value is 0.00% and maximum is 9.80%.\n",
      "- Standard deviation is 1.40%.\n",
      "\n",
      "Average depth is 0.53 m.\n"
     ]
    }
   ],
   "source": [
    "r_col = ['AE_max', 'AE_int', 'AE_min']\n",
    "\n",
    "for col in r_col:\n",
    "    avg = review_cases[col].mean()\n",
    "    median = review_cases[col].median()\n",
    "    min_v = review_cases[col].min()\n",
    "    max_v = review_cases[col].max()\n",
    "    std = review_cases[col].std()\n",
    "    \n",
    "    if \"max\" in col:\n",
    "        add = \" maximum \"\n",
    "    elif \"int\" in col:\n",
    "        add = \" intermediate \"\n",
    "    else:\n",
    "        add = \" minimum \"\n",
    "    \n",
    "    print(\"For\" + add + \"aeration efficinecy the:\")\n",
    "        \n",
    "    print(\"- Average value is %0.2f%% and median value is %0.2f%%.\" % (avg, median))\n",
    "    print(\"- Minimum value is %0.2f%% and maximum is %0.2f%%.\" % (min_v, max_v))\n",
    "    print(\"- Standard deviation is %0.2f%%.\" % (std))\n",
    "    print(\"\")\n",
    "    \n",
    "avg_depth = review_cases['water_depth_m'].mean()\n",
    "print(\"Average depth is %0.2f m.\" % avg_depth)"
   ]
  },
  {
   "cell_type": "markdown",
   "metadata": {},
   "source": [
    "#### Basic plots"
   ]
  },
  {
   "cell_type": "markdown",
   "metadata": {},
   "source": [
    "**Histogram for intermediate aeration efficiency**"
   ]
  },
  {
   "cell_type": "code",
   "execution_count": 65,
   "metadata": {},
   "outputs": [
    {
     "data": {
      "image/png": "[encoded data removed]",
      "text/plain": [
       "<Figure size 576x360 with 1 Axes>"
      ]
     },
     "metadata": {
      "needs_background": "light"
     },
     "output_type": "display_data"
    }
   ],
   "source": [
    "fig = plt.figure(figsize=(8, 5))\n",
    "ax1 = fig.add_subplot(1, 1, 1)\n",
    "fnt=14\n",
    "labelpad=10\n",
    "\n",
    "review_cases[['AE_int']].plot(kind='hist',\n",
    "                              rwidth=0.7,\n",
    "                              bins=27,\n",
    "                              legend=False, \n",
    "                              xticks=range(0, 9, 1), \n",
    "                              xlim=(0, 9),\n",
    "                              ax=ax1\n",
    "                             )\n",
    "\n",
    "ax1.set_ylabel('Number of cases', fontsize=fnt, labelpad=labelpad)\n",
    "ax1.set_xlabel('Intermediate aeration efficiency (%)', fontsize=fnt, labelpad=labelpad)\n",
    "\n",
    "plt.show()"
   ]
  },
  {
   "cell_type": "code",
   "execution_count": 80,
   "metadata": {},
   "outputs": [
    {
     "data": {
      "image/png": "[encoded data removed]",
      "text/plain": [
       "<Figure size 360x360 with 1 Axes>"
      ]
     },
     "metadata": {
      "needs_background": "light"
     },
     "output_type": "display_data"
    }
   ],
   "source": [
    "review_cases[['AE_int']].plot(kind='box', figsize=(5, 5), ylim=(0,10))\n",
    "plt.show()"
   ]
  },
  {
   "cell_type": "markdown",
   "metadata": {},
   "source": [
    "**Boxplots**"
   ]
  },
  {
   "cell_type": "code",
   "execution_count": 84,
   "metadata": {},
   "outputs": [
    {
     "data": {
      "image/png": "[encoded data removed]",
      "text/plain": [
       "<Figure size 1080x720 with 2 Axes>"
      ]
     },
     "metadata": {
      "needs_background": "light"
     },
     "output_type": "display_data"
    }
   ],
   "source": [
    "# without the one most efficient case\n",
    "review_cases_filtered = review_cases[review_cases['AE_int'] < 10]\n",
    "fig = plt.figure()\n",
    "ax1 = fig.add_subplot(1, 2, 1)\n",
    "ax2 = fig.add_subplot(1, 2, 2)\n",
    "review_cases_filtered[['AE_max']].plot(kind='box', figsize=(15, 10), ax=ax1)\n",
    "review_cases_filtered[['AE_int']].plot(kind='box', figsize=(15, 10), ax=ax2, label='title')\n",
    "plt.show()"
   ]
  },
  {
   "cell_type": "markdown",
   "metadata": {},
   "source": [
    "### Hydraulic and Organic loading rate versus aeration efficiency"
   ]
  },
  {
   "cell_type": "code",
   "execution_count": 127,
   "metadata": {},
   "outputs": [
    {
     "data": {
      "image/png": "[encoded data removed]",
      "text/plain": [
       "<Figure size 1080x360 with 2 Axes>"
      ]
     },
     "metadata": {
      "needs_background": "light"
     },
     "output_type": "display_data"
    }
   ],
   "source": [
    "fig = plt.figure()\n",
    "ax1 = fig.add_subplot(1, 2, 1)\n",
    "ax2 = fig.add_subplot(1, 2, 2)\n",
    "fnt=16\n",
    "labelpad=10\n",
    "review_cases_filtered.plot(kind='scatter', x='HLR_lit_m2d', y='AE_int', ax=ax1, figsize=(15, 5), grid=True, fontsize=fnt)\n",
    "review_cases_filtered.plot(kind='scatter', x='OLR_gCOD_m2d', y='AE_int', ax=ax2, figsize=(15, 5), grid=True, fontsize=fnt)\n",
    "ax1.set_xlabel('Hydraulic loading rate (liters/m2.d)', fontsize=fnt, labelpad=labelpad)\n",
    "ax2.set_xlabel('Organic loading rate (gCOD/m2.d)', fontsize=fnt, labelpad=labelpad)\n",
    "ax1.set_ylabel('Intermediate aeration efficiency', fontsize=fnt, labelpad=labelpad)\n",
    "ax2.set_ylabel('')\n",
    "plt.show()"
   ]
  },
  {
   "cell_type": "markdown",
   "metadata": {},
   "source": [
    "**Water depth versus aeration efficiency**"
   ]
  },
  {
   "cell_type": "code",
   "execution_count": 122,
   "metadata": {},
   "outputs": [
    {
     "data": {
      "image/png": "[encoded data removed]",
      "text/plain": [
       "<Figure size 720x360 with 1 Axes>"
      ]
     },
     "metadata": {
      "needs_background": "light"
     },
     "output_type": "display_data"
    }
   ],
   "source": [
    "review_cases_filtered.plot(kind='scatter', x='AE_int', y='water_depth_m', figsize=(10, 5), grid=True, fontsize=fnt)\n",
    "plt.title('Water depth versus aeration efficiency', fontsize=16, pad=10)\n",
    "plt.xlabel('Intermediate aeration efficiency', fontsize=fnt, labelpad=labelpad)\n",
    "plt.ylabel('Water depth (m)', fontsize=fnt, labelpad=labelpad)\n",
    "plt.show()"
   ]
  },
  {
   "cell_type": "markdown",
   "metadata": {},
   "source": [
    "#### Separating the Forced Bed Aeration systems"
   ]
  },
  {
   "cell_type": "code",
   "execution_count": 66,
   "metadata": {},
   "outputs": [
    {
     "data": {
      "text/html": [
       "<div>\n",
       "<style scoped>\n",
       "    .dataframe tbody tr th:only-of-type {\n",
       "        vertical-align: middle;\n",
       "    }\n",
       "\n",
       "    .dataframe tbody tr th {\n",
       "        vertical-align: top;\n",
       "    }\n",
       "\n",
       "    .dataframe thead th {\n",
       "        text-align: right;\n",
       "    }\n",
       "</style>\n",
       "<table border=\"1\" class=\"dataframe\">\n",
       "  <thead>\n",
       "    <tr style=\"text-align: right;\">\n",
       "      <th></th>\n",
       "      <th>Reference</th>\n",
       "      <th>number</th>\n",
       "      <th>water_depth_m</th>\n",
       "      <th>area_m2</th>\n",
       "      <th>volume_m3</th>\n",
       "      <th>porosity</th>\n",
       "      <th>voids_m3</th>\n",
       "      <th>HLR_lit_m2d</th>\n",
       "      <th>daily_flow_lit</th>\n",
       "      <th>OLR_gCOD_m2d</th>\n",
       "      <th>...</th>\n",
       "      <th>OCR_max_a</th>\n",
       "      <th>OCR_int_a</th>\n",
       "      <th>OCR_min_a</th>\n",
       "      <th>OC_max</th>\n",
       "      <th>OC_int</th>\n",
       "      <th>OC_min</th>\n",
       "      <th>OI</th>\n",
       "      <th>AE_max</th>\n",
       "      <th>AE_int</th>\n",
       "      <th>AE_min</th>\n",
       "    </tr>\n",
       "  </thead>\n",
       "  <tbody>\n",
       "    <tr>\n",
       "      <th>7</th>\n",
       "      <td>(Boog et al., 2014)</td>\n",
       "      <td>3a</td>\n",
       "      <td>0.800</td>\n",
       "      <td>6.2000</td>\n",
       "      <td>4.960000</td>\n",
       "      <td>0.40</td>\n",
       "      <td>2.000000</td>\n",
       "      <td>95.000000</td>\n",
       "      <td>589.0</td>\n",
       "      <td>26.88500</td>\n",
       "      <td>...</td>\n",
       "      <td>72.834600</td>\n",
       "      <td>38.779950</td>\n",
       "      <td>15.201187</td>\n",
       "      <td>1580.510820</td>\n",
       "      <td>841.524915</td>\n",
       "      <td>263.892615</td>\n",
       "      <td>4.706599e+04</td>\n",
       "      <td>3.358074</td>\n",
       "      <td>1.787968</td>\n",
       "      <td>0.560686</td>\n",
       "    </tr>\n",
       "    <tr>\n",
       "      <th>8</th>\n",
       "      <td>(Boog et al., 2014)</td>\n",
       "      <td>3b</td>\n",
       "      <td>0.800</td>\n",
       "      <td>6.2000</td>\n",
       "      <td>4.960000</td>\n",
       "      <td>0.40</td>\n",
       "      <td>2.000000</td>\n",
       "      <td>95.000000</td>\n",
       "      <td>589.0</td>\n",
       "      <td>26.88500</td>\n",
       "      <td>...</td>\n",
       "      <td>73.899550</td>\n",
       "      <td>39.152350</td>\n",
       "      <td>15.726062</td>\n",
       "      <td>1603.620235</td>\n",
       "      <td>849.605995</td>\n",
       "      <td>273.004445</td>\n",
       "      <td>3.137733e+04</td>\n",
       "      <td>5.110761</td>\n",
       "      <td>2.707707</td>\n",
       "      <td>0.870069</td>\n",
       "    </tr>\n",
       "    <tr>\n",
       "      <th>9</th>\n",
       "      <td>(Butterworth et al., 2013)</td>\n",
       "      <td>4</td>\n",
       "      <td>0.550</td>\n",
       "      <td>100.0000</td>\n",
       "      <td>55.000000</td>\n",
       "      <td>0.40</td>\n",
       "      <td>30.250000</td>\n",
       "      <td>272.000000</td>\n",
       "      <td>27200.0</td>\n",
       "      <td>19.40000</td>\n",
       "      <td>...</td>\n",
       "      <td>16.586560</td>\n",
       "      <td>6.857120</td>\n",
       "      <td>9.500218</td>\n",
       "      <td>1844.645000</td>\n",
       "      <td>762.602500</td>\n",
       "      <td>581.102500</td>\n",
       "      <td>1.021538e+06</td>\n",
       "      <td>0.180575</td>\n",
       "      <td>0.074652</td>\n",
       "      <td>0.056885</td>\n",
       "    </tr>\n",
       "    <tr>\n",
       "      <th>21</th>\n",
       "      <td>(Nivala et al., 2007)</td>\n",
       "      <td>10a</td>\n",
       "      <td>0.300</td>\n",
       "      <td>93.0000</td>\n",
       "      <td>27.900000</td>\n",
       "      <td>0.35</td>\n",
       "      <td>9.765000</td>\n",
       "      <td>4.000000</td>\n",
       "      <td>372.0</td>\n",
       "      <td>2.93600</td>\n",
       "      <td>...</td>\n",
       "      <td>4.610400</td>\n",
       "      <td>1.870800</td>\n",
       "      <td>4.102667</td>\n",
       "      <td>11255.139000</td>\n",
       "      <td>4567.090500</td>\n",
       "      <td>3004.690500</td>\n",
       "      <td>1.736041e+07</td>\n",
       "      <td>0.064832</td>\n",
       "      <td>0.026308</td>\n",
       "      <td>0.017308</td>\n",
       "    </tr>\n",
       "    <tr>\n",
       "      <th>22</th>\n",
       "      <td>(Nivala et al., 2007)</td>\n",
       "      <td>10b</td>\n",
       "      <td>0.300</td>\n",
       "      <td>93.0000</td>\n",
       "      <td>27.900000</td>\n",
       "      <td>0.35</td>\n",
       "      <td>9.765000</td>\n",
       "      <td>4.000000</td>\n",
       "      <td>372.0</td>\n",
       "      <td>3.09200</td>\n",
       "      <td>...</td>\n",
       "      <td>4.562880</td>\n",
       "      <td>1.877760</td>\n",
       "      <td>3.812533</td>\n",
       "      <td>11139.130800</td>\n",
       "      <td>4584.081600</td>\n",
       "      <td>2792.204100</td>\n",
       "      <td>1.736041e+07</td>\n",
       "      <td>0.064164</td>\n",
       "      <td>0.026405</td>\n",
       "      <td>0.016084</td>\n",
       "    </tr>\n",
       "    <tr>\n",
       "      <th>23</th>\n",
       "      <td>(Nivala et al., 2007)</td>\n",
       "      <td>10c</td>\n",
       "      <td>0.300</td>\n",
       "      <td>93.0000</td>\n",
       "      <td>27.900000</td>\n",
       "      <td>0.35</td>\n",
       "      <td>9.765000</td>\n",
       "      <td>4.000000</td>\n",
       "      <td>372.0</td>\n",
       "      <td>3.49200</td>\n",
       "      <td>...</td>\n",
       "      <td>6.668080</td>\n",
       "      <td>2.737160</td>\n",
       "      <td>5.637200</td>\n",
       "      <td>16278.450300</td>\n",
       "      <td>6682.091850</td>\n",
       "      <td>4128.544350</td>\n",
       "      <td>1.736041e+07</td>\n",
       "      <td>0.093768</td>\n",
       "      <td>0.038490</td>\n",
       "      <td>0.023781</td>\n",
       "    </tr>\n",
       "    <tr>\n",
       "      <th>24</th>\n",
       "      <td>(Nivala et al., 2007)</td>\n",
       "      <td>10d</td>\n",
       "      <td>0.300</td>\n",
       "      <td>93.0000</td>\n",
       "      <td>27.900000</td>\n",
       "      <td>0.35</td>\n",
       "      <td>9.765000</td>\n",
       "      <td>4.000000</td>\n",
       "      <td>372.0</td>\n",
       "      <td>2.51200</td>\n",
       "      <td>...</td>\n",
       "      <td>4.132800</td>\n",
       "      <td>1.641600</td>\n",
       "      <td>4.012000</td>\n",
       "      <td>10089.198000</td>\n",
       "      <td>4007.556000</td>\n",
       "      <td>2938.288500</td>\n",
       "      <td>1.736041e+07</td>\n",
       "      <td>0.058116</td>\n",
       "      <td>0.023084</td>\n",
       "      <td>0.016925</td>\n",
       "    </tr>\n",
       "    <tr>\n",
       "      <th>31</th>\n",
       "      <td>(Redmond et al., 2014)</td>\n",
       "      <td>14a</td>\n",
       "      <td>0.305</td>\n",
       "      <td>5.4412</td>\n",
       "      <td>1.659566</td>\n",
       "      <td>NaN</td>\n",
       "      <td>0.506168</td>\n",
       "      <td>48.702492</td>\n",
       "      <td>265.0</td>\n",
       "      <td>31.07219</td>\n",
       "      <td>...</td>\n",
       "      <td>33.759983</td>\n",
       "      <td>16.164649</td>\n",
       "      <td>6.645255</td>\n",
       "      <td>606.192906</td>\n",
       "      <td>290.251797</td>\n",
       "      <td>36.393192</td>\n",
       "      <td>3.940537e+03</td>\n",
       "      <td>15.383512</td>\n",
       "      <td>7.365794</td>\n",
       "      <td>0.923559</td>\n",
       "    </tr>\n",
       "    <tr>\n",
       "      <th>32</th>\n",
       "      <td>(Redmond et al., 2014)</td>\n",
       "      <td>14b</td>\n",
       "      <td>0.305</td>\n",
       "      <td>5.4412</td>\n",
       "      <td>1.659566</td>\n",
       "      <td>NaN</td>\n",
       "      <td>0.506168</td>\n",
       "      <td>48.702492</td>\n",
       "      <td>265.0</td>\n",
       "      <td>31.07219</td>\n",
       "      <td>...</td>\n",
       "      <td>35.295475</td>\n",
       "      <td>16.813172</td>\n",
       "      <td>7.752798</td>\n",
       "      <td>825.813882</td>\n",
       "      <td>393.380469</td>\n",
       "      <td>55.325004</td>\n",
       "      <td>5.134639e+03</td>\n",
       "      <td>16.083194</td>\n",
       "      <td>7.661308</td>\n",
       "      <td>1.077486</td>\n",
       "    </tr>\n",
       "  </tbody>\n",
       "</table>\n",
       "<p>9 rows × 41 columns</p>\n",
       "</div>"
      ],
      "text/plain": [
       "                     Reference number  water_depth_m   area_m2  volume_m3  \\\n",
       "7          (Boog et al., 2014)     3a          0.800    6.2000   4.960000   \n",
       "8          (Boog et al., 2014)     3b          0.800    6.2000   4.960000   \n",
       "9   (Butterworth et al., 2013)      4          0.550  100.0000  55.000000   \n",
       "21       (Nivala et al., 2007)    10a          0.300   93.0000  27.900000   \n",
       "22       (Nivala et al., 2007)    10b          0.300   93.0000  27.900000   \n",
       "23       (Nivala et al., 2007)    10c          0.300   93.0000  27.900000   \n",
       "24       (Nivala et al., 2007)    10d          0.300   93.0000  27.900000   \n",
       "31      (Redmond et al., 2014)    14a          0.305    5.4412   1.659566   \n",
       "32      (Redmond et al., 2014)    14b          0.305    5.4412   1.659566   \n",
       "\n",
       "    porosity   voids_m3  HLR_lit_m2d  daily_flow_lit  OLR_gCOD_m2d  ...  \\\n",
       "7       0.40   2.000000    95.000000           589.0      26.88500  ...   \n",
       "8       0.40   2.000000    95.000000           589.0      26.88500  ...   \n",
       "9       0.40  30.250000   272.000000         27200.0      19.40000  ...   \n",
       "21      0.35   9.765000     4.000000           372.0       2.93600  ...   \n",
       "22      0.35   9.765000     4.000000           372.0       3.09200  ...   \n",
       "23      0.35   9.765000     4.000000           372.0       3.49200  ...   \n",
       "24      0.35   9.765000     4.000000           372.0       2.51200  ...   \n",
       "31       NaN   0.506168    48.702492           265.0      31.07219  ...   \n",
       "32       NaN   0.506168    48.702492           265.0      31.07219  ...   \n",
       "\n",
       "    OCR_max_a  OCR_int_a  OCR_min_a        OC_max       OC_int       OC_min  \\\n",
       "7   72.834600  38.779950  15.201187   1580.510820   841.524915   263.892615   \n",
       "8   73.899550  39.152350  15.726062   1603.620235   849.605995   273.004445   \n",
       "9   16.586560   6.857120   9.500218   1844.645000   762.602500   581.102500   \n",
       "21   4.610400   1.870800   4.102667  11255.139000  4567.090500  3004.690500   \n",
       "22   4.562880   1.877760   3.812533  11139.130800  4584.081600  2792.204100   \n",
       "23   6.668080   2.737160   5.637200  16278.450300  6682.091850  4128.544350   \n",
       "24   4.132800   1.641600   4.012000  10089.198000  4007.556000  2938.288500   \n",
       "31  33.759983  16.164649   6.645255    606.192906   290.251797    36.393192   \n",
       "32  35.295475  16.813172   7.752798    825.813882   393.380469    55.325004   \n",
       "\n",
       "              OI     AE_max    AE_int    AE_min  \n",
       "7   4.706599e+04   3.358074  1.787968  0.560686  \n",
       "8   3.137733e+04   5.110761  2.707707  0.870069  \n",
       "9   1.021538e+06   0.180575  0.074652  0.056885  \n",
       "21  1.736041e+07   0.064832  0.026308  0.017308  \n",
       "22  1.736041e+07   0.064164  0.026405  0.016084  \n",
       "23  1.736041e+07   0.093768  0.038490  0.023781  \n",
       "24  1.736041e+07   0.058116  0.023084  0.016925  \n",
       "31  3.940537e+03  15.383512  7.365794  0.923559  \n",
       "32  5.134639e+03  16.083194  7.661308  1.077486  \n",
       "\n",
       "[9 rows x 41 columns]"
      ]
     },
     "execution_count": 66,
     "metadata": {},
     "output_type": "execute_result"
    }
   ],
   "source": [
    "# building filter for separatin FBA studies\n",
    "fba_list = ['3a', '3b', '4', '10a', '10b', '10c', '10d', '14a', '14b']\n",
    "\n",
    "fba_cases = review_cases[review_cases['number'].isin(fba_list)]\n",
    "fba_cases"
   ]
  },
  {
   "cell_type": "code",
   "execution_count": 44,
   "metadata": {},
   "outputs": [
    {
     "name": "stdout",
     "output_type": "stream",
     "text": [
      "For FBA studies we have this values\n",
      "For maximum aeration efficinecy the:\n",
      "- Average value is 5.03% and median value is 1.73%.\n",
      "- Minimum value is 0.06% and maximum is 16.08%.\n",
      "- Standard deviation is 6.87%.\n",
      "\n",
      "For intermediate aeration efficinecy the:\n",
      "- Average value is 2.45% and median value is 0.91%.\n",
      "- Minimum value is 0.02% and maximum is 7.66%.\n",
      "- Standard deviation is 3.28%.\n",
      "\n",
      "For minimum aeration efficinecy the:\n",
      "- Average value is 0.44% and median value is 0.29%.\n",
      "- Minimum value is 0.02% and maximum is 1.08%.\n",
      "- Standard deviation is 0.47%.\n",
      "\n",
      "For maximum aeration efficinecy the:\n",
      "- Average value is 59.55% and median value is 56.64%.\n",
      "- Minimum value is 13.78% and maximum is 115.72%.\n",
      "- Standard deviation is 46.67%.\n",
      "\n",
      "For intermediate aeration efficinecy the:\n",
      "- Average value is 29.08% and median value is 28.80%.\n",
      "- Minimum value is 5.47% and maximum is 55.13%.\n",
      "- Standard deviation is 23.96%.\n",
      "\n",
      "Average depth is 0.43 m.\n",
      "\n",
      "Average OCR value is 59.55 and median value is 56.64.\n",
      "Minimum OCR value is 13.78 and maximum is 115.72.\n"
     ]
    }
   ],
   "source": [
    "r_col = ['AE_max', 'AE_int', 'AE_min', 'OCR_max_v', 'OCR_int_v']\n",
    "\n",
    "print(\"For FBA studies we have this values\")\n",
    "\n",
    "for col in r_col:\n",
    "    avg = fba_cases[col].mean()\n",
    "    median = fba_cases[col].median()\n",
    "    min_v = fba_cases[col].min()\n",
    "    max_v = fba_cases[col].max()\n",
    "    std = fba_cases[col].std()\n",
    "    \n",
    "    if \"max\" in col:\n",
    "        add = \" maximum \"\n",
    "    elif \"int\" in col:\n",
    "        add = \" intermediate \"\n",
    "    else:\n",
    "        add = \" minimum \"\n",
    "    \n",
    "    print(\"For\" + add + \"aeration efficinecy the:\")\n",
    "    print(\"- Average value is %0.2f%% and median value is %0.2f%%.\" % (avg, median))\n",
    "    print(\"- Minimum value is %0.2f%% and maximum is %0.2f%%.\" % (min_v, max_v))\n",
    "    print(\"- Standard deviation is %0.2f%%.\" % (std))\n",
    "    print(\"\")\n",
    "    \n",
    "avg_depth = fba_cases['water_depth_m'].mean()\n",
    "print(\"Average depth is %0.2f m.\" % avg_depth)\n",
    "print(\"\")\n",
    "\n",
    "avg_OCR = fba_cases['OCR_max_v'].mean()\n",
    "median_OCR = fba_cases['OCR_max_v'].median()\n",
    "min_OCR = fba_cases['OCR_max_v'].min()\n",
    "max_OCR = fba_cases['OCR_max_v'].max()\n",
    "print(\"Average OCR value is %0.2f and median value is %0.2f.\" % (avg_OCR, median_OCR))\n",
    "print(\"Minimum OCR value is %0.2f and maximum is %0.2f.\" % (min_OCR, max_OCR))"
   ]
  },
  {
   "cell_type": "code",
   "execution_count": 72,
   "metadata": {},
   "outputs": [
    {
     "data": {
      "image/png": "[encoded data removed]",
      "text/plain": [
       "<Figure size 576x360 with 1 Axes>"
      ]
     },
     "metadata": {
      "needs_background": "light"
     },
     "output_type": "display_data"
    }
   ],
   "source": [
    "fig = plt.figure(figsize=(8, 5))\n",
    "ax1 = fig.add_subplot(1, 1, 1)\n",
    "fnt=14\n",
    "labelpad=10\n",
    "\n",
    "fba_cases[['AE_int']].plot(kind='hist',\n",
    "                              rwidth=0.7,\n",
    "                              bins=27,\n",
    "                              legend=False, \n",
    "                              xticks=range(0, 9, 1), \n",
    "                              ax=ax1\n",
    "                             )\n",
    "\n",
    "ax1.set_ylabel('Number of cases', fontsize=fnt, labelpad=labelpad)\n",
    "ax1.set_xlabel('Intermediate aeration efficiency (%) (FBA cases)', fontsize=fnt, labelpad=labelpad)\n",
    "\n",
    "plt.show()"
   ]
  },
  {
   "cell_type": "markdown",
   "metadata": {},
   "source": [
    "#### Average polutant reduction"
   ]
  },
  {
   "cell_type": "code",
   "execution_count": 41,
   "metadata": {},
   "outputs": [
    {
     "name": "stdout",
     "output_type": "stream",
     "text": [
      "Average polutant efficiency:\n",
      "\n",
      "Average COD reduction efficiency is 85.56%\n",
      "Median COD reduction efficiency is 93.46%\n",
      "\n",
      "Average TKN reduction efficiency is 85.39%\n",
      "Median TKN reduction efficiency is 95.64%\n",
      "\n",
      "Average NH4 reduction efficiency is 86.74%\n",
      "Median NH4 reduction efficiency is 92.99%\n",
      "\n"
     ]
    }
   ],
   "source": [
    "print(\"Average polutant efficiency:\")\n",
    "print(\"\")\n",
    "\n",
    "review_cases['eff_COD'] = (review_cases['COD_IN'] - review_cases['COD_OUT']) / review_cases['COD_IN'] * 100\n",
    "review_cases['eff_TKN'] = (review_cases['TKN_IN'] - review_cases['TKN_OUT']) / review_cases['TKN_IN'] * 100\n",
    "review_cases['eff_NH4'] = (review_cases['NH4_IN'] - review_cases['NH4_OUT']) / review_cases['NH4_IN'] * 100\n",
    "\n",
    "r_col = ['eff_COD', 'eff_TKN', 'eff_NH4']\n",
    "\n",
    "for col in r_col:\n",
    "    avg = review_cases[col].mean()\n",
    "    med = review_cases[col].median()\n",
    "    \n",
    "    if \"COD\" in col:\n",
    "        print(\"Average COD reduction efficiency is %0.2f%%\" % avg)\n",
    "        print(\"Median COD reduction efficiency is %0.2f%%\" % med)\n",
    "    if \"TKN\" in col:\n",
    "        print(\"Average TKN reduction efficiency is %0.2f%%\" % avg)\n",
    "        print(\"Median TKN reduction efficiency is %0.2f%%\" % med)\n",
    "    if \"NH4\" in col:\n",
    "        print(\"Average NH4 reduction efficiency is %0.2f%%\" % avg)\n",
    "        print(\"Median NH4 reduction efficiency is %0.2f%%\" % med)\n",
    "    print(\"\")"
   ]
  },
  {
   "cell_type": "markdown",
   "metadata": {},
   "source": [
    "#### Correlation matrix"
   ]
  },
  {
   "cell_type": "code",
   "execution_count": 45,
   "metadata": {},
   "outputs": [
    {
     "data": {
      "text/plain": [
       "Index(['Reference', 'number', 'water_depth_m', 'area_m2', 'volume_m3',\n",
       "       'porosity', 'voids_m3', 'HLR_lit_m2d', 'daily_flow_lit', 'OLR_gCOD_m2d',\n",
       "       'HRT_h', 'HRT_days', 'air_flow_m3h', 'aer_duration_h_day',\n",
       "       'air_per_day_m3', 'air_per_HRT_m3', 'COD_IN', 'COD_OUT', 'deltaCOD',\n",
       "       'CBOD_IN', 'CBOD_OUT', 'deltaCBOD', 'TKN_IN', 'TKN_OUT', 'deltaTKN',\n",
       "       'NH4_IN', 'NH4_OUT', 'deltaNH4', 'OCR_max_v', 'OCR_int_v', 'OCR_min_v',\n",
       "       'OCR_max_a', 'OCR_int_a', 'OCR_min_a', 'OC_max', 'OC_int', 'OC_min',\n",
       "       'OI', 'AE_max', 'AE_int', 'AE_min', 'eff_COD', 'eff_TKN', 'eff_NH4'],\n",
       "      dtype='object')"
      ]
     },
     "execution_count": 45,
     "metadata": {},
     "output_type": "execute_result"
    }
   ],
   "source": [
    "review_cases.columns"
   ]
  },
  {
   "cell_type": "code",
   "execution_count": 46,
   "metadata": {},
   "outputs": [],
   "source": [
    "AE_corr = ['water_depth_m', 'area_m2', 'volume_m3', 'HLR_lit_m2d', \n",
    "           'OLR_gCOD_m2d', 'HRT_days', 'air_flow_m3h', 'aer_duration_h_day',\n",
    "           'AE_max']"
   ]
  },
  {
   "cell_type": "code",
   "execution_count": 51,
   "metadata": {},
   "outputs": [
    {
     "data": {
      "text/plain": [
       "Index(['water_depth_m', 'area_m2', 'volume_m3', 'HLR_lit_m2d', 'OLR_gCOD_m2d',\n",
       "       'HRT_days', 'air_flow_m3h', 'aer_duration_h_day', 'AE_max'],\n",
       "      dtype='object')"
      ]
     },
     "execution_count": 51,
     "metadata": {},
     "output_type": "execute_result"
    }
   ],
   "source": [
    "AE_review_cases = review_cases[[*AE_corr]]\n",
    "AE_review_cases.columns"
   ]
  },
  {
   "cell_type": "code",
   "execution_count": 52,
   "metadata": {},
   "outputs": [
    {
     "data": {
      "text/html": [
       "<div>\n",
       "<style scoped>\n",
       "    .dataframe tbody tr th:only-of-type {\n",
       "        vertical-align: middle;\n",
       "    }\n",
       "\n",
       "    .dataframe tbody tr th {\n",
       "        vertical-align: top;\n",
       "    }\n",
       "\n",
       "    .dataframe thead th {\n",
       "        text-align: right;\n",
       "    }\n",
       "</style>\n",
       "<table border=\"1\" class=\"dataframe\">\n",
       "  <thead>\n",
       "    <tr style=\"text-align: right;\">\n",
       "      <th></th>\n",
       "      <th>water_depth_m</th>\n",
       "      <th>area_m2</th>\n",
       "      <th>volume_m3</th>\n",
       "      <th>HLR_lit_m2d</th>\n",
       "      <th>OLR_gCOD_m2d</th>\n",
       "      <th>HRT_days</th>\n",
       "      <th>air_flow_m3h</th>\n",
       "      <th>aer_duration_h_day</th>\n",
       "      <th>AE_max</th>\n",
       "    </tr>\n",
       "  </thead>\n",
       "  <tbody>\n",
       "    <tr>\n",
       "      <th>water_depth_m</th>\n",
       "      <td>1.000000</td>\n",
       "      <td>0.602125</td>\n",
       "      <td>0.617061</td>\n",
       "      <td>0.699644</td>\n",
       "      <td>0.468242</td>\n",
       "      <td>-0.251322</td>\n",
       "      <td>0.366829</td>\n",
       "      <td>0.016899</td>\n",
       "      <td>0.108795</td>\n",
       "    </tr>\n",
       "    <tr>\n",
       "      <th>area_m2</th>\n",
       "      <td>0.602125</td>\n",
       "      <td>1.000000</td>\n",
       "      <td>0.997962</td>\n",
       "      <td>0.881686</td>\n",
       "      <td>0.240732</td>\n",
       "      <td>-0.023361</td>\n",
       "      <td>0.812344</td>\n",
       "      <td>0.193056</td>\n",
       "      <td>0.063361</td>\n",
       "    </tr>\n",
       "    <tr>\n",
       "      <th>volume_m3</th>\n",
       "      <td>0.617061</td>\n",
       "      <td>0.997962</td>\n",
       "      <td>1.000000</td>\n",
       "      <td>0.887795</td>\n",
       "      <td>0.257333</td>\n",
       "      <td>-0.079426</td>\n",
       "      <td>0.774424</td>\n",
       "      <td>0.168588</td>\n",
       "      <td>0.069749</td>\n",
       "    </tr>\n",
       "    <tr>\n",
       "      <th>HLR_lit_m2d</th>\n",
       "      <td>0.699644</td>\n",
       "      <td>0.881686</td>\n",
       "      <td>0.887795</td>\n",
       "      <td>1.000000</td>\n",
       "      <td>0.581418</td>\n",
       "      <td>-0.218217</td>\n",
       "      <td>0.663513</td>\n",
       "      <td>0.235477</td>\n",
       "      <td>0.069916</td>\n",
       "    </tr>\n",
       "    <tr>\n",
       "      <th>OLR_gCOD_m2d</th>\n",
       "      <td>0.468242</td>\n",
       "      <td>0.240732</td>\n",
       "      <td>0.257333</td>\n",
       "      <td>0.581418</td>\n",
       "      <td>1.000000</td>\n",
       "      <td>-0.312063</td>\n",
       "      <td>0.049225</td>\n",
       "      <td>0.051532</td>\n",
       "      <td>0.068210</td>\n",
       "    </tr>\n",
       "    <tr>\n",
       "      <th>HRT_days</th>\n",
       "      <td>-0.251322</td>\n",
       "      <td>-0.023361</td>\n",
       "      <td>-0.079426</td>\n",
       "      <td>-0.218217</td>\n",
       "      <td>-0.312063</td>\n",
       "      <td>1.000000</td>\n",
       "      <td>0.425628</td>\n",
       "      <td>0.263661</td>\n",
       "      <td>-0.045951</td>\n",
       "    </tr>\n",
       "    <tr>\n",
       "      <th>air_flow_m3h</th>\n",
       "      <td>0.366829</td>\n",
       "      <td>0.812344</td>\n",
       "      <td>0.774424</td>\n",
       "      <td>0.663513</td>\n",
       "      <td>0.049225</td>\n",
       "      <td>0.425628</td>\n",
       "      <td>1.000000</td>\n",
       "      <td>0.378768</td>\n",
       "      <td>-0.019449</td>\n",
       "    </tr>\n",
       "    <tr>\n",
       "      <th>aer_duration_h_day</th>\n",
       "      <td>0.016899</td>\n",
       "      <td>0.193056</td>\n",
       "      <td>0.168588</td>\n",
       "      <td>0.235477</td>\n",
       "      <td>0.051532</td>\n",
       "      <td>0.263661</td>\n",
       "      <td>0.378768</td>\n",
       "      <td>1.000000</td>\n",
       "      <td>-0.211296</td>\n",
       "    </tr>\n",
       "    <tr>\n",
       "      <th>AE_max</th>\n",
       "      <td>0.108795</td>\n",
       "      <td>0.063361</td>\n",
       "      <td>0.069749</td>\n",
       "      <td>0.069916</td>\n",
       "      <td>0.068210</td>\n",
       "      <td>-0.045951</td>\n",
       "      <td>-0.019449</td>\n",
       "      <td>-0.211296</td>\n",
       "      <td>1.000000</td>\n",
       "    </tr>\n",
       "  </tbody>\n",
       "</table>\n",
       "</div>"
      ],
      "text/plain": [
       "                    water_depth_m   area_m2  volume_m3  HLR_lit_m2d  \\\n",
       "water_depth_m            1.000000  0.602125   0.617061     0.699644   \n",
       "area_m2                  0.602125  1.000000   0.997962     0.881686   \n",
       "volume_m3                0.617061  0.997962   1.000000     0.887795   \n",
       "HLR_lit_m2d              0.699644  0.881686   0.887795     1.000000   \n",
       "OLR_gCOD_m2d             0.468242  0.240732   0.257333     0.581418   \n",
       "HRT_days                -0.251322 -0.023361  -0.079426    -0.218217   \n",
       "air_flow_m3h             0.366829  0.812344   0.774424     0.663513   \n",
       "aer_duration_h_day       0.016899  0.193056   0.168588     0.235477   \n",
       "AE_max                   0.108795  0.063361   0.069749     0.069916   \n",
       "\n",
       "                    OLR_gCOD_m2d  HRT_days  air_flow_m3h  aer_duration_h_day  \\\n",
       "water_depth_m           0.468242 -0.251322      0.366829            0.016899   \n",
       "area_m2                 0.240732 -0.023361      0.812344            0.193056   \n",
       "volume_m3               0.257333 -0.079426      0.774424            0.168588   \n",
       "HLR_lit_m2d             0.581418 -0.218217      0.663513            0.235477   \n",
       "OLR_gCOD_m2d            1.000000 -0.312063      0.049225            0.051532   \n",
       "HRT_days               -0.312063  1.000000      0.425628            0.263661   \n",
       "air_flow_m3h            0.049225  0.425628      1.000000            0.378768   \n",
       "aer_duration_h_day      0.051532  0.263661      0.378768            1.000000   \n",
       "AE_max                  0.068210 -0.045951     -0.019449           -0.211296   \n",
       "\n",
       "                      AE_max  \n",
       "water_depth_m       0.108795  \n",
       "area_m2             0.063361  \n",
       "volume_m3           0.069749  \n",
       "HLR_lit_m2d         0.069916  \n",
       "OLR_gCOD_m2d        0.068210  \n",
       "HRT_days           -0.045951  \n",
       "air_flow_m3h       -0.019449  \n",
       "aer_duration_h_day -0.211296  \n",
       "AE_max              1.000000  "
      ]
     },
     "execution_count": 52,
     "metadata": {},
     "output_type": "execute_result"
    }
   ],
   "source": [
    "AE_review_cases.corr()"
   ]
  },
  {
   "cell_type": "code",
   "execution_count": 71,
   "metadata": {},
   "outputs": [
    {
     "data": {
      "text/plain": [
       "Index(['water_depth_m', 'area_m2', 'volume_m3', 'HLR_lit_m2d', 'OLR_gCOD_m2d',\n",
       "       'HRT_days', 'air_flow_m3h', 'aer_duration_h_day', 'OCR_max_a'],\n",
       "      dtype='object')"
      ]
     },
     "execution_count": 71,
     "metadata": {},
     "output_type": "execute_result"
    }
   ],
   "source": [
    "OCR_corr = ['water_depth_m', 'area_m2', 'volume_m3', 'HLR_lit_m2d', \n",
    "           'OLR_gCOD_m2d', 'HRT_days', 'air_flow_m3h', 'aer_duration_h_day',\n",
    "           'OCR_max_a']\n",
    "\n",
    "OCR_review_cases = review_cases[[*OCR_corr]]\n",
    "OCR_review_cases.columns"
   ]
  },
  {
   "cell_type": "code",
   "execution_count": 72,
   "metadata": {},
   "outputs": [
    {
     "data": {
      "text/html": [
       "<div>\n",
       "<style scoped>\n",
       "    .dataframe tbody tr th:only-of-type {\n",
       "        vertical-align: middle;\n",
       "    }\n",
       "\n",
       "    .dataframe tbody tr th {\n",
       "        vertical-align: top;\n",
       "    }\n",
       "\n",
       "    .dataframe thead th {\n",
       "        text-align: right;\n",
       "    }\n",
       "</style>\n",
       "<table border=\"1\" class=\"dataframe\">\n",
       "  <thead>\n",
       "    <tr style=\"text-align: right;\">\n",
       "      <th></th>\n",
       "      <th>water_depth_m</th>\n",
       "      <th>area_m2</th>\n",
       "      <th>volume_m3</th>\n",
       "      <th>HLR_lit_m2d</th>\n",
       "      <th>OLR_gCOD_m2d</th>\n",
       "      <th>HRT_days</th>\n",
       "      <th>air_flow_m3h</th>\n",
       "      <th>aer_duration_h_day</th>\n",
       "      <th>OCR_max_a</th>\n",
       "    </tr>\n",
       "  </thead>\n",
       "  <tbody>\n",
       "    <tr>\n",
       "      <th>water_depth_m</th>\n",
       "      <td>1.000000</td>\n",
       "      <td>0.602125</td>\n",
       "      <td>0.617061</td>\n",
       "      <td>0.699644</td>\n",
       "      <td>0.468242</td>\n",
       "      <td>-0.251322</td>\n",
       "      <td>0.366829</td>\n",
       "      <td>0.016899</td>\n",
       "      <td>0.416706</td>\n",
       "    </tr>\n",
       "    <tr>\n",
       "      <th>area_m2</th>\n",
       "      <td>0.602125</td>\n",
       "      <td>1.000000</td>\n",
       "      <td>0.997962</td>\n",
       "      <td>0.881686</td>\n",
       "      <td>0.240732</td>\n",
       "      <td>-0.023361</td>\n",
       "      <td>0.812344</td>\n",
       "      <td>0.193056</td>\n",
       "      <td>0.072514</td>\n",
       "    </tr>\n",
       "    <tr>\n",
       "      <th>volume_m3</th>\n",
       "      <td>0.617061</td>\n",
       "      <td>0.997962</td>\n",
       "      <td>1.000000</td>\n",
       "      <td>0.887795</td>\n",
       "      <td>0.257333</td>\n",
       "      <td>-0.079426</td>\n",
       "      <td>0.774424</td>\n",
       "      <td>0.168588</td>\n",
       "      <td>0.090193</td>\n",
       "    </tr>\n",
       "    <tr>\n",
       "      <th>HLR_lit_m2d</th>\n",
       "      <td>0.699644</td>\n",
       "      <td>0.881686</td>\n",
       "      <td>0.887795</td>\n",
       "      <td>1.000000</td>\n",
       "      <td>0.581418</td>\n",
       "      <td>-0.218217</td>\n",
       "      <td>0.663513</td>\n",
       "      <td>0.235477</td>\n",
       "      <td>0.457579</td>\n",
       "    </tr>\n",
       "    <tr>\n",
       "      <th>OLR_gCOD_m2d</th>\n",
       "      <td>0.468242</td>\n",
       "      <td>0.240732</td>\n",
       "      <td>0.257333</td>\n",
       "      <td>0.581418</td>\n",
       "      <td>1.000000</td>\n",
       "      <td>-0.312063</td>\n",
       "      <td>0.049225</td>\n",
       "      <td>0.051532</td>\n",
       "      <td>0.956408</td>\n",
       "    </tr>\n",
       "    <tr>\n",
       "      <th>HRT_days</th>\n",
       "      <td>-0.251322</td>\n",
       "      <td>-0.023361</td>\n",
       "      <td>-0.079426</td>\n",
       "      <td>-0.218217</td>\n",
       "      <td>-0.312063</td>\n",
       "      <td>1.000000</td>\n",
       "      <td>0.425628</td>\n",
       "      <td>0.263661</td>\n",
       "      <td>-0.306188</td>\n",
       "    </tr>\n",
       "    <tr>\n",
       "      <th>air_flow_m3h</th>\n",
       "      <td>0.366829</td>\n",
       "      <td>0.812344</td>\n",
       "      <td>0.774424</td>\n",
       "      <td>0.663513</td>\n",
       "      <td>0.049225</td>\n",
       "      <td>0.425628</td>\n",
       "      <td>1.000000</td>\n",
       "      <td>0.378768</td>\n",
       "      <td>-0.099401</td>\n",
       "    </tr>\n",
       "    <tr>\n",
       "      <th>aer_duration_h_day</th>\n",
       "      <td>0.016899</td>\n",
       "      <td>0.193056</td>\n",
       "      <td>0.168588</td>\n",
       "      <td>0.235477</td>\n",
       "      <td>0.051532</td>\n",
       "      <td>0.263661</td>\n",
       "      <td>0.378768</td>\n",
       "      <td>1.000000</td>\n",
       "      <td>0.031645</td>\n",
       "    </tr>\n",
       "    <tr>\n",
       "      <th>OCR_max_a</th>\n",
       "      <td>0.416706</td>\n",
       "      <td>0.072514</td>\n",
       "      <td>0.090193</td>\n",
       "      <td>0.457579</td>\n",
       "      <td>0.956408</td>\n",
       "      <td>-0.306188</td>\n",
       "      <td>-0.099401</td>\n",
       "      <td>0.031645</td>\n",
       "      <td>1.000000</td>\n",
       "    </tr>\n",
       "  </tbody>\n",
       "</table>\n",
       "</div>"
      ],
      "text/plain": [
       "                    water_depth_m   area_m2  volume_m3  HLR_lit_m2d  \\\n",
       "water_depth_m            1.000000  0.602125   0.617061     0.699644   \n",
       "area_m2                  0.602125  1.000000   0.997962     0.881686   \n",
       "volume_m3                0.617061  0.997962   1.000000     0.887795   \n",
       "HLR_lit_m2d              0.699644  0.881686   0.887795     1.000000   \n",
       "OLR_gCOD_m2d             0.468242  0.240732   0.257333     0.581418   \n",
       "HRT_days                -0.251322 -0.023361  -0.079426    -0.218217   \n",
       "air_flow_m3h             0.366829  0.812344   0.774424     0.663513   \n",
       "aer_duration_h_day       0.016899  0.193056   0.168588     0.235477   \n",
       "OCR_max_a                0.416706  0.072514   0.090193     0.457579   \n",
       "\n",
       "                    OLR_gCOD_m2d  HRT_days  air_flow_m3h  aer_duration_h_day  \\\n",
       "water_depth_m           0.468242 -0.251322      0.366829            0.016899   \n",
       "area_m2                 0.240732 -0.023361      0.812344            0.193056   \n",
       "volume_m3               0.257333 -0.079426      0.774424            0.168588   \n",
       "HLR_lit_m2d             0.581418 -0.218217      0.663513            0.235477   \n",
       "OLR_gCOD_m2d            1.000000 -0.312063      0.049225            0.051532   \n",
       "HRT_days               -0.312063  1.000000      0.425628            0.263661   \n",
       "air_flow_m3h            0.049225  0.425628      1.000000            0.378768   \n",
       "aer_duration_h_day      0.051532  0.263661      0.378768            1.000000   \n",
       "OCR_max_a               0.956408 -0.306188     -0.099401            0.031645   \n",
       "\n",
       "                    OCR_max_a  \n",
       "water_depth_m        0.416706  \n",
       "area_m2              0.072514  \n",
       "volume_m3            0.090193  \n",
       "HLR_lit_m2d          0.457579  \n",
       "OLR_gCOD_m2d         0.956408  \n",
       "HRT_days            -0.306188  \n",
       "air_flow_m3h        -0.099401  \n",
       "aer_duration_h_day   0.031645  \n",
       "OCR_max_a            1.000000  "
      ]
     },
     "execution_count": 72,
     "metadata": {},
     "output_type": "execute_result"
    }
   ],
   "source": [
    "OCR_review_cases.corr()"
   ]
  },
  {
   "cell_type": "code",
   "execution_count": 77,
   "metadata": {},
   "outputs": [],
   "source": [
    "# from pandas.plotting import scatter_matrix\n",
    "# scatter_matrix(OCR_review_cases, figsize=(15, 15), alpha=0.3)"
   ]
  },
  {
   "cell_type": "markdown",
   "metadata": {},
   "source": [
    "#### Difference between continuos and intermitent aeration"
   ]
  },
  {
   "cell_type": "code",
   "execution_count": 91,
   "metadata": {},
   "outputs": [
    {
     "data": {
      "text/plain": [
       "21"
      ]
     },
     "execution_count": 91,
     "metadata": {},
     "output_type": "execute_result"
    }
   ],
   "source": [
    "# filtering the continous cases\n",
    "CA = review_cases[review_cases['aer_duration_h_day'] == 24]\n",
    "\n",
    "# selecting only cases with AE_int less than 10 - more doesnt make sense\n",
    "CA = CA[CA['AE_int'] < 10]\n",
    "len(CA)"
   ]
  },
  {
   "cell_type": "code",
   "execution_count": 92,
   "metadata": {},
   "outputs": [
    {
     "data": {
      "text/plain": [
       "27"
      ]
     },
     "execution_count": 92,
     "metadata": {},
     "output_type": "execute_result"
    }
   ],
   "source": [
    "IA = review_cases[review_cases['aer_duration_h_day'] < 24]\n",
    "\n",
    "# selecting only cases with AE_int less than 10 - more doesnt make sense\n",
    "IA = IA[IA['AE_int'] < 10]\n",
    "\n",
    "len(IA)"
   ]
  },
  {
   "cell_type": "markdown",
   "metadata": {},
   "source": [
    "So there are 21 review cases with continuous aeration and 27 (28 with one unrealistic case) with intermittent aeration."
   ]
  },
  {
   "cell_type": "code",
   "execution_count": 120,
   "metadata": {},
   "outputs": [
    {
     "data": {
      "image/png": "[encoded data removed]",
      "text/plain": [
       "<Figure size 720x360 with 2 Axes>"
      ]
     },
     "metadata": {
      "needs_background": "light"
     },
     "output_type": "display_data"
    }
   ],
   "source": [
    "fig = plt.figure(figsize=(10, 5))\n",
    "ax1 = fig.add_subplot(1, 2, 1)\n",
    "ax2 = fig.add_subplot(1, 2, 2)\n",
    "\n",
    "fnt=16\n",
    "labelpad=20\n",
    "\n",
    "CA[['AE_int']].plot(kind='box',\n",
    "                    ax=ax1,\n",
    "                    fontsize=fnt,\n",
    "                    ylim=(0, 8)\n",
    "                   )\n",
    "IA[['AE_int']].plot(kind='box',\n",
    "                    ax=ax2,\n",
    "                    fontsize=fnt,\n",
    "                    ylim=(0, 8)\n",
    "                   )\n",
    "\n",
    "ax1.set_title('Continuous aeration', fontsize=fnt, pad=labelpad)\n",
    "ax2.set_title('Intermittent aeration', fontsize=fnt, pad=labelpad)\n",
    "fig.suptitle('Comparison of intermediate AE boxplos for CA and IA', fontsize=16, y=1.05)\n",
    "\n",
    "plt.show()"
   ]
  },
  {
   "cell_type": "code",
   "execution_count": 106,
   "metadata": {},
   "outputs": [
    {
     "data": {
      "image/png": "[encoded data removed]",
      "text/plain": [
       "<Figure size 720x360 with 2 Axes>"
      ]
     },
     "metadata": {
      "needs_background": "light"
     },
     "output_type": "display_data"
    }
   ],
   "source": [
    "fig = plt.figure(figsize=(10, 5))\n",
    "ax1 = fig.add_subplot(1, 2, 1)\n",
    "ax2 = fig.add_subplot(1, 2, 2)\n",
    "\n",
    "fnt=16\n",
    "labelpad=10\n",
    "y_limits=(0, 200)\n",
    "\n",
    "CA[['OCR_int_v']].plot(kind='box',\n",
    "                    ax=ax1,\n",
    "                    fontsize=fnt,\n",
    "                    ylim=y_limits\n",
    "                   )\n",
    "IA[['OCR_int_v']].plot(kind='box',\n",
    "                    ax=ax2,\n",
    "                    fontsize=fnt,\n",
    "                    ylim=y_limits\n",
    "                   )\n",
    "\n",
    "ax1.set_title('Continuous aeration', fontsize=fnt)\n",
    "ax2.set_title('Intermittent aeration', fontsize=fnt)\n",
    "\n",
    "plt.show()"
   ]
  },
  {
   "cell_type": "code",
   "execution_count": 108,
   "metadata": {},
   "outputs": [
    {
     "data": {
      "image/png": "[encoded data removed]",
      "text/plain": [
       "<Figure size 720x360 with 2 Axes>"
      ]
     },
     "metadata": {
      "needs_background": "light"
     },
     "output_type": "display_data"
    }
   ],
   "source": [
    "fig = plt.figure(figsize=(10, 5))\n",
    "ax1 = fig.add_subplot(1, 2, 1)\n",
    "ax2 = fig.add_subplot(1, 2, 2)\n",
    "\n",
    "fnt=16\n",
    "labelpad=10\n",
    "y_limits=(0, 150)\n",
    "\n",
    "CA[['OLR_gCOD_m2d']].plot(kind='box',\n",
    "                    ax=ax1,\n",
    "                    fontsize=fnt,\n",
    "                    ylim=y_limits\n",
    "                   )\n",
    "IA[['OLR_gCOD_m2d']].plot(kind='box',\n",
    "                    ax=ax2,\n",
    "                    fontsize=fnt,\n",
    "                    ylim=y_limits\n",
    "                   )\n",
    "\n",
    "ax1.set_title('Continuous aeration', fontsize=fnt)\n",
    "ax2.set_title('Intermittent aeration', fontsize=fnt)\n",
    "\n",
    "plt.show()"
   ]
  },
  {
   "cell_type": "code",
   "execution_count": 121,
   "metadata": {},
   "outputs": [
    {
     "name": "stdout",
     "output_type": "stream",
     "text": [
      "For CA studies we have this values\n",
      "For intermediate aeration eficiency the values are:\n",
      "- Average value is 0.53 and median value is 0.07.\n",
      "\n",
      "For intermediate volumetric OCR the values are:\n",
      "- Average value is 31.84 and median value is 18.80.\n",
      "\n",
      "For OLR the values are:\n",
      "- Average value is 31.66 and median value is 13.80.\n",
      "\n"
     ]
    }
   ],
   "source": [
    "r_col = ['AE_int', 'OCR_int_v', 'OLR_gCOD_m2d']\n",
    "\n",
    "print(\"For CA studies we have this values\")\n",
    "\n",
    "for col in r_col:\n",
    "    avg = CA[col].mean()\n",
    "    median = CA[col].median()\n",
    "    \n",
    "    if \"AE\" in col:\n",
    "        print(\"For intermediate aeration eficiency the values are:\")\n",
    "    elif \"OCR\" in col:\n",
    "        print(\"For intermediate volumetric OCR the values are:\")\n",
    "    else:\n",
    "        print(\"For OLR the values are:\")\n",
    "    \n",
    "    print(\"- Average value is %0.2f and median value is %0.2f.\" % (avg, median))\n",
    "    print(\"\")\n",
    "    \n"
   ]
  },
  {
   "cell_type": "code",
   "execution_count": 122,
   "metadata": {},
   "outputs": [
    {
     "name": "stdout",
     "output_type": "stream",
     "text": [
      "For IA studies we have this values\n",
      "For intermediate aeration eficiency the values are:\n",
      "- Average value is 1.47 and median value is 0.61.\n",
      "\n",
      "For intermediate volumetric OCR the values are:\n",
      "- Average value is 39.48 and median value is 27.45.\n",
      "\n",
      "For OLR the values are:\n",
      "- Average value is 28.66 and median value is 27.28.\n",
      "\n"
     ]
    }
   ],
   "source": [
    "r_col = ['AE_int', 'OCR_int_v', 'OLR_gCOD_m2d']\n",
    "\n",
    "print(\"For IA studies we have this values\")\n",
    "\n",
    "for col in r_col:\n",
    "    avg = IA[col].mean()\n",
    "    median = IA[col].median()\n",
    "    \n",
    "    if \"AE\" in col:\n",
    "        print(\"For intermediate aeration eficiency the values are:\")\n",
    "    elif \"OCR\" in col:\n",
    "        print(\"For intermediate volumetric OCR the values are:\")\n",
    "    else:\n",
    "        print(\"For OLR the values are:\")\n",
    "    \n",
    "    print(\"- Average value is %0.2f and median value is %0.2f.\" % (avg, median))\n",
    "    print(\"\")"
   ]
  }
 ],
 "metadata": {
  "kernelspec": {
   "display_name": "Python 3",
   "language": "python",
   "name": "python3"
  },
  "language_info": {
   "codemirror_mode": {
    "name": "ipython",
    "version": 3
   },
   "file_extension": ".py",
   "mimetype": "text/x-python",
   "name": "python",
   "nbconvert_exporter": "python",
   "pygments_lexer": "ipython3",
   "version": "3.7.3"
  },
  "latex_envs": {
   "LaTeX_envs_menu_present": true,
   "autoclose": true,
   "autocomplete": true,
   "bibliofile": "biblio.bib",
   "cite_by": "apalike",
   "current_citInitial": 1,
   "eqLabelWithNumbers": true,
   "eqNumInitial": 1,
   "hotkeys": {
    "equation": "Ctrl-E",
    "itemize": "Ctrl-I"
   },
   "labels_anchors": false,
   "latex_user_defs": false,
   "report_style_numbering": false,
   "user_envs_cfg": false
  },
  "toc": {
   "base_numbering": 1,
   "nav_menu": {
    "height": "416px",
    "width": "397px"
   },
   "number_sections": true,
   "sideBar": true,
   "skip_h1_title": false,
   "title_cell": "Table of Contents",
   "title_sidebar": "Contents",
   "toc_cell": false,
   "toc_position": {},
   "toc_section_display": true,
   "toc_window_display": false
  }
 },
 "nbformat": 4,
 "nbformat_minor": 2
}
